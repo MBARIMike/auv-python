{
 "cells": [
  {
   "cell_type": "markdown",
   "metadata": {},
   "source": [
    "### Plot data from the netCDF conversions of the original log files\n",
    "To run this Notebook:\n",
    "- Install Python 3.8 (e.g from [Anacaonda](https://www.anaconda.com/distribution/))\n",
    "- `git clone git@bitbucket.org:mbari/auv-python.git`\n",
    "- `cd auv-python`\n",
    "- `conda create --name auv-python python=3.8`\n",
    "- `conda activate auv-python`\n",
    "- `pip install -r requirements.txt`\n",
    "- `jupyter notebook`\n",
    "- Select this file and execute the cells with 'shift-return'"
   ]
  },
  {
   "cell_type": "code",
   "execution_count": null,
   "metadata": {},
   "outputs": [],
   "source": [
    "import os\n",
    "import xarray as xr\n",
    "import hvplot.pandas\n",
    "import ipywidgets as widgets\n",
    "from logs2netcdfs import BASE_PATH\n",
    "from logs2netcdfs import LOG_FILES\n",
    "\n",
    "# Pick auv_name available from locally processed files\n",
    "auv_picker = widgets.Dropdown(options=[f for f in sorted(os.listdir(BASE_PATH))\n",
    "                                               if f != '.DS_Store'])\n",
    "display(auv_picker)"
   ]
  },
  {
   "cell_type": "code",
   "execution_count": null,
   "metadata": {},
   "outputs": [],
   "source": [
    "# Pick mission available for the auv_name\n",
    "auv_name = auv_picker.value\n",
    "missions_dir = os.path.join(BASE_PATH, auv_name, 'missionnetcdfs')\n",
    "mission_picker = widgets.Dropdown(options=sorted(os.listdir(missions_dir)))\n",
    "display(mission_picker)"
   ]
  },
  {
   "cell_type": "code",
   "execution_count": null,
   "metadata": {},
   "outputs": [],
   "source": [
    "# Read all the netCDF file data into in-memory xarray objects saved in a dictionary\n",
    "netcdfs_dir = os.path.join(BASE_PATH, auv_name, 'missionnetcdfs', mission_picker.value)\n",
    "ncs = {}\n",
    "for lf in LOG_FILES:\n",
    "    nc_file = lf.replace('.log', '.nc')\n",
    "    try:\n",
    "        ncs[nc_file] = xr.open_dataset(os.path.join(netcdfs_dir, nc_file))\n",
    "    except FileNotFoundError:\n",
    "        pass"
   ]
  },
  {
   "cell_type": "code",
   "execution_count": null,
   "metadata": {
    "tags": []
   },
   "outputs": [],
   "source": [
    "# Show all the attributes of each data set and all the variables in each data set\n",
    "for nc_file, ds in ncs.items():\n",
    "    print(f\"{nc_file}: {[v for v in list(ds)]}\")\n",
    "    ##display(ds) # Uncomment to explore all the attributes"
   ]
  },
  {
   "cell_type": "code",
   "execution_count": null,
   "metadata": {
    "scrolled": true
   },
   "outputs": [],
   "source": [
    "# Pick the converted log to examine\n",
    "ds_picker = widgets.Dropdown(options=ncs.keys())\n",
    "display(ds_picker)"
   ]
  },
  {
   "cell_type": "code",
   "execution_count": null,
   "metadata": {
    "scrolled": true
   },
   "outputs": [],
   "source": [
    "# Pick the variable to plot\n",
    "var_picker = widgets.Dropdown(options=list(ncs[ds_picker.value]))\n",
    "display(var_picker)"
   ]
  },
  {
   "cell_type": "code",
   "execution_count": null,
   "metadata": {
    "scrolled": false,
    "tags": []
   },
   "outputs": [],
   "source": [
    "# Make an interactive plot\n",
    "ds = ncs[ds_picker.value]\n",
    "variable = var_picker.value\n",
    "    \n",
    "var = getattr(ds, variable)\n",
    "yl = f\"{var_picker.value} from {var.attrs['long_name']} [{var.attrs.get('units', '')}]\"\n",
    "print(f\"{auv_name}: {mission_picker.value}: {ds_picker.value}: {var_picker.value}\")\n",
    "display(var.to_pandas().hvplot(ylabel=yl))"
   ]
  },
  {
   "cell_type": "code",
   "execution_count": null,
   "metadata": {},
   "outputs": [],
   "source": []
  }
 ],
 "metadata": {
  "kernelspec": {
   "display_name": "Python 3",
   "language": "python",
   "name": "python3"
  },
  "language_info": {
   "codemirror_mode": {
    "name": "ipython",
    "version": 3
   },
   "file_extension": ".py",
   "mimetype": "text/x-python",
   "name": "python",
   "nbconvert_exporter": "python",
   "pygments_lexer": "ipython3",
   "version": "3.8.2-final"
  }
 },
 "nbformat": 4,
 "nbformat_minor": 4
}
