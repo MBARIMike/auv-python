{
 "cells": [
  {
   "cell_type": "markdown",
   "metadata": {},
   "source": [
    "### Plot data from the netCDF conversions of the original log files\n",
    "To run this Notebook:\n",
    "- Install Python3.8 (e.g from [Anacaonda](https://www.anaconda.com/distribution/))\n",
    "- `git clone https://<your_account>@bitbucket.org/mbari/auv-python.git` Replacing: `<your_account>`\n",
    "- `cd auv-python`\n",
    "- `jupyter notebook`\n",
    "- Select this file and execute the cells"
   ]
  },
  {
   "cell_type": "code",
   "execution_count": null,
   "metadata": {},
   "outputs": [],
   "source": [
    "import xarray as xr\n",
    "import hvplot.pandas\n",
    "import ipywidgets as widgets\n",
    "from os.path import join\n",
    "from logs2netcdfs import BASE_PATH\n",
    "from logs2netcdfs import LOG_FILES\n",
    "\n",
    "# Enter vehicle and mission name here\n",
    "auv_name = 'Dorado389'\n",
    "mission = '2020.064.10'\n",
    "netcdfs_dir = join(BASE_PATH, auv_name, 'missionnetcdfs', mission)"
   ]
  },
  {
   "cell_type": "markdown",
   "metadata": {},
   "source": [
    "Read all the netCDF file data into in-memory xarray objects saved in a dictionary"
   ]
  },
  {
   "cell_type": "code",
   "execution_count": null,
   "metadata": {},
   "outputs": [],
   "source": [
    "ncs = {}\n",
    "for lf in LOG_FILES:\n",
    "    nc_file = lf.replace('.log', '.nc')\n",
    "    ncs[nc_file] = xr.open_dataset(join(netcdfs_dir, nc_file))"
   ]
  },
  {
   "cell_type": "markdown",
   "metadata": {},
   "source": [
    "Show all the attributes of each data set and all the variables in each data set"
   ]
  },
  {
   "cell_type": "code",
   "execution_count": null,
   "metadata": {},
   "outputs": [],
   "source": [
    "for nc_file, ds in ncs.items():\n",
    "    print(f\"{nc_file}: {[v for v in list(ds)]}\")\n",
    "    ##display(ds) # Uncomment to explore all the attributes"
   ]
  },
  {
   "cell_type": "markdown",
   "metadata": {},
   "source": [
    "Pick the converted log to examine"
   ]
  },
  {
   "cell_type": "code",
   "execution_count": null,
   "metadata": {
    "scrolled": true
   },
   "outputs": [],
   "source": [
    "ds_picker = widgets.Dropdown(options=ncs.keys())\n",
    "display(ds_picker)"
   ]
  },
  {
   "cell_type": "markdown",
   "metadata": {},
   "source": [
    "Pick the variable to plot"
   ]
  },
  {
   "cell_type": "code",
   "execution_count": null,
   "metadata": {},
   "outputs": [],
   "source": [
    "var_picker = widgets.Dropdown(options=list(ncs[ds_picker.value]))\n",
    "display(var_picker)"
   ]
  },
  {
   "cell_type": "code",
   "execution_count": null,
   "metadata": {},
   "outputs": [],
   "source": [
    "ds = ncs[ds_picker.value]\n",
    "variable = var_picker.value\n",
    "    \n",
    "var = getattr(ds, variable)\n",
    "yl = f\"{var.attrs['long_name']} [{var.attrs.get('units', '')}]\"\n",
    "print(f\"{ds_picker.value}: {yl}\")\n",
    "display(var.to_pandas().hvplot(ylabel=yl))"
   ]
  },
  {
   "cell_type": "code",
   "execution_count": null,
   "metadata": {},
   "outputs": [],
   "source": []
  }
 ],
 "metadata": {
  "kernelspec": {
   "display_name": "Python 3",
   "language": "python",
   "name": "python3"
  },
  "language_info": {
   "codemirror_mode": {
    "name": "ipython",
    "version": 3
   },
   "file_extension": ".py",
   "mimetype": "text/x-python",
   "name": "python",
   "nbconvert_exporter": "python",
   "pygments_lexer": "ipython3",
   "version": "3.8.1"
  }
 },
 "nbformat": 4,
 "nbformat_minor": 4
}
