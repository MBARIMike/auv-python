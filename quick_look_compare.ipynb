{
 "cells": [
  {
   "cell_type": "markdown",
   "metadata": {},
   "source": [
    "### Plot data from the netCDF conversions of the original log files and compare with SSDS generated version\n",
    "To run this Notebook:\n",
    "- Install Python3.8 (e.g from [Anacaonda](https://www.anaconda.com/distribution/))\n",
    "- `git clone https://<your_account>@bitbucket.org/mbari/auv-python.git` Replacing: `<your_account>`\n",
    "- `cd auv-python`\n",
    "- `jupyter notebook`\n",
    "- Select this file and execute the cells"
   ]
  },
  {
   "cell_type": "code",
   "execution_count": null,
   "metadata": {
    "scrolled": true
   },
   "outputs": [],
   "source": [
    "import xarray as xr\n",
    "import hvplot.pandas\n",
    "import ipywidgets as widgets\n",
    "from os.path import join\n",
    "from logs2netcdfs import BASE_PATH\n",
    "from logs2netcdfs import LOG_FILES\n",
    "\n",
    "# Enter vehicle and mission name here\n",
    "auv_name = 'Dorado389'\n",
    "mission = '2020.064.10'\n",
    "\n",
    "# Compare SSDS generated with logs2netcdfs.py generated\n",
    "ssds_path = join('http://dods.mbari.org:80/opendap/data/ssdsdata/ssds/generated/netcdf/files',\n",
    "                 'ssds.shore.mbari.org/auvctd/missionlogs/', mission.split('.')[0],\n",
    "                 ''.join(mission.split('.')[:2]), mission)\n",
    "\n",
    "netcdfs_dir = join(BASE_PATH, auv_name, 'missionnetcdfs', mission)"
   ]
  },
  {
   "cell_type": "markdown",
   "metadata": {},
   "source": [
    "Read all the netCDF file and SSDS OPeNDAP data into in-memory xarray objects saved in dictionaries"
   ]
  },
  {
   "cell_type": "code",
   "execution_count": null,
   "metadata": {
    "scrolled": true
   },
   "outputs": [],
   "source": [
    "ncs = {}\n",
    "dds = {}\n",
    "for lf in LOG_FILES:\n",
    "    nc_file = lf.replace('.log', '.nc')\n",
    "    ncs[nc_file] = xr.open_dataset(join(netcdfs_dir, nc_file))\n",
    "    dds[nc_file] = xr.open_dataset(join(ssds_path, nc_file))"
   ]
  },
  {
   "cell_type": "markdown",
   "metadata": {},
   "source": [
    "Show all the attributes of each data set and all the variables in each data set"
   ]
  },
  {
   "cell_type": "code",
   "execution_count": null,
   "metadata": {
    "scrolled": true
   },
   "outputs": [],
   "source": [
    "for nc_file, ds in ncs.items():\n",
    "    print(nc_file)\n",
    "    ##display(ds)  # Uncomment to explore all the attributes"
   ]
  },
  {
   "cell_type": "markdown",
   "metadata": {},
   "source": [
    "Pick the converted log to examine"
   ]
  },
  {
   "cell_type": "code",
   "execution_count": null,
   "metadata": {
    "scrolled": true
   },
   "outputs": [],
   "source": [
    "ds_picker = widgets.Dropdown(options=ncs.keys())\n",
    "display(ds_picker)"
   ]
  },
  {
   "cell_type": "markdown",
   "metadata": {},
   "source": [
    "Pick the variable to plot"
   ]
  },
  {
   "cell_type": "code",
   "execution_count": null,
   "metadata": {},
   "outputs": [],
   "source": [
    "var_picker = widgets.Dropdown(options=list(ncs[ds_picker.value]))\n",
    "display(var_picker)"
   ]
  },
  {
   "cell_type": "markdown",
   "metadata": {},
   "source": [
    "Make two plots comparing the locally generated netCDF file with the one created and served by SSDS"
   ]
  },
  {
   "cell_type": "code",
   "execution_count": null,
   "metadata": {
    "scrolled": false
   },
   "outputs": [],
   "source": [
    "from pandas.plotting import register_matplotlib_converters\n",
    "static = False   # Set to True for non-interactive Matplotlib plots\n",
    "\n",
    "register_matplotlib_converters()\n",
    "local_ds = ncs[ds_picker.value]\n",
    "ssds_ds = dds[ds_picker.value]\n",
    "\n",
    "variable = var_picker.value\n",
    "\n",
    "var = getattr(local_ds, variable)\n",
    "try:\n",
    "    d_var = getattr(ssds_ds, variable)\n",
    "except AttributeError as e:\n",
    "    d_var = xr.DataArray([])\n",
    "    \n",
    "if static:\n",
    "    print(f\"ds.{variable}.plot(aspect=5, size=5)\")\n",
    "    display(var.plot(aspect=5, size=5, title=f\"Local netCDF file: {ds_picker.value}\"))\n",
    "    print(\"SSDS original data\")\n",
    "    display(d_var.plot(aspect=5, size=5, title=f\"SSDS original data: {ds_picker.value}\"))\n",
    "else:\n",
    "    yl = f\"{var.attrs['long_name']} [{var.attrs.get('units', '')}]\"\n",
    "    print(f\"ds.{variable}.to_pandas().hvplot(ylabel='{yl}')\")\n",
    "    display(var.to_pandas().hvplot(ylabel=yl, title=f\"Local netCDF file: {ds_picker.value}\"))\n",
    "    if d_var.any():\n",
    "        display(d_var.to_pandas().hvplot(ylabel='SSDS '+yl, title=f\"SSDS original data: {ds_picker.value}\"))\n",
    "    else:\n",
    "        display(f'SSDS Dataset has no variable {variable}')"
   ]
  },
  {
   "cell_type": "code",
   "execution_count": null,
   "metadata": {
    "scrolled": true
   },
   "outputs": [],
   "source": []
  }
 ],
 "metadata": {
  "kernelspec": {
   "display_name": "Python 3",
   "language": "python",
   "name": "python3"
  },
  "language_info": {
   "codemirror_mode": {
    "name": "ipython",
    "version": 3
   },
   "file_extension": ".py",
   "mimetype": "text/x-python",
   "name": "python",
   "nbconvert_exporter": "python",
   "pygments_lexer": "ipython3",
   "version": "3.8.1"
  }
 },
 "nbformat": 4,
 "nbformat_minor": 4
}
