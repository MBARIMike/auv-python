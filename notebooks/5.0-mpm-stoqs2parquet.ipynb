{
 "cells": [
  {
   "attachments": {},
   "cell_type": "markdown",
   "metadata": {},
   "source": [
    "#### Example of extracting a Parquet file from a STOQS database and loading it into a Pandas DataFrame for machine learning analysis.\n",
    "\n",
    "Execute this in from a `jupyter notebook` command so that you may zoom into the datashader plots - this [does not work in VS Code](https://github.com/holoviz/datashader/issues/739#issuecomment-482936944).\n",
    "\n",
    "Go to https://stoqs.shore.mbari.org/stoqs_mb_diamonds/ and click the buttons of the Measured Parameters to be included in the Parquet file. Then click the \"Measured Parameter Data Access\" section to open it and click the Estimate requirements button. Verify that the estimated values are within the available values.  The URL will look something like this:\n",
    "\n",
    "```url\n",
    "https://stoqs.shore.mbari.org/stoqs_mb_diamonds/api/measuredparameter.parquet?parameter__name=ecopuck_BB_Sig&parameter__name=ecopuck_CDOM_Sig&parameter__name=ecopuck_Chl_Sig&parameter__name=hs2_bb420&parameter__name=hs2_bb700&parameter__name=hs2_fl700&collect=name&include=activity__name\n",
    "```\n",
    "It took the stoqs.shore.mbari.org server around 5 minutes to generate the Parquet file for the above URL.  The file produced is 236 MB in size. Let's download it to the local machine and load it into a Pandas DataFrame."
   ]
  },
  {
   "cell_type": "code",
   "execution_count": null,
   "metadata": {},
   "outputs": [],
   "source": [
    "import pandas as pd\n",
    "\n",
    "# Takes about 30 seconds to read in these data\n",
    "file_name = \"/Users/mccann/Downloads/stoqs_mb_diamonds.parquet\"\n",
    "df = pd.read_parquet(file_name)\n",
    "df.head()"
   ]
  },
  {
   "cell_type": "code",
   "execution_count": null,
   "metadata": {},
   "outputs": [],
   "source": [
    "# See that ecopuck data exist at the tail end\n",
    "df.tail()"
   ]
  },
  {
   "cell_type": "code",
   "execution_count": null,
   "metadata": {},
   "outputs": [],
   "source": [
    "# Use datashader to make interactive biplots of the data\n",
    "# Do not commit following cell outputs to the repository - they are too big!\n",
    "import colorcet\n",
    "import holoviews as hv\n",
    "from holoviews.operation.datashader import datashade\n",
    "hv.extension(\"bokeh\")"
   ]
  },
  {
   "cell_type": "code",
   "execution_count": null,
   "metadata": {},
   "outputs": [],
   "source": [
    "# Compare HS2 and ecopuck Chlorophyll\n",
    "pts_hs2ecochl = hv.Points(df, ['ecopuck_Chl_Sig', 'hs2_fl700'])\n",
    "plots = ( datashade(pts_hs2ecochl, cmap=colorcet.fire).opts(width=800, height=600) )\n",
    "plots"
   ]
  },
  {
   "cell_type": "code",
   "execution_count": null,
   "metadata": {},
   "outputs": [],
   "source": [
    "# Compare HS2 420 and ecopuck BB\n",
    "pts_hs2ecochl = hv.Points(df, ['ecopuck_BB_Sig', 'hs2_bb420'])\n",
    "plots = ( datashade(pts_hs2ecochl, cmap=colorcet.fire).opts(width=800, height=600) )\n",
    "plots"
   ]
  },
  {
   "cell_type": "code",
   "execution_count": null,
   "metadata": {},
   "outputs": [],
   "source": [
    "# Compare HS2 700 and ecopuck BB\n",
    "pts_hs2ecochl = hv.Points(df, ['ecopuck_BB_Sig', 'hs2_bb700'])\n",
    "plots = ( datashade(pts_hs2ecochl, cmap=colorcet.fire).opts(width=800, height=600) )\n",
    "plots"
   ]
  },
  {
   "cell_type": "code",
   "execution_count": null,
   "metadata": {},
   "outputs": [],
   "source": [
    "# Ecopuck BB vs. Chl\n",
    "pts_hs2ecochl = hv.Points(df, ['ecopuck_BB_Sig', 'ecopuck_Chl_Sig'])\n",
    "plots = ( datashade(pts_hs2ecochl, cmap=colorcet.fire).opts(width=800, height=600) )\n",
    "plots"
   ]
  },
  {
   "cell_type": "code",
   "execution_count": null,
   "metadata": {},
   "outputs": [],
   "source": [
    "# HS2 BB vs. Chl\n",
    "pts_hs2ecochl = hv.Points(df, ['hs2_bb420', 'hs2_fl700'])\n",
    "plots = ( datashade(pts_hs2ecochl, cmap=colorcet.fire).opts(width=800, height=600) )\n",
    "plots"
   ]
  },
  {
   "cell_type": "code",
   "execution_count": null,
   "metadata": {},
   "outputs": [],
   "source": []
  }
 ],
 "metadata": {
  "kernelspec": {
   "display_name": "Python 3 (ipykernel)",
   "language": "python",
   "name": "python3"
  },
  "language_info": {
   "codemirror_mode": {
    "name": "ipython",
    "version": 3
   },
   "file_extension": ".py",
   "mimetype": "text/x-python",
   "name": "python",
   "nbconvert_exporter": "python",
   "pygments_lexer": "ipython3",
   "version": "3.10.8"
  },
  "vscode": {
   "interpreter": {
    "hash": "3c3b3e148980b25a09cf00d63a35b08e191085f19026c93a28fd1b260ffc2533"
   }
  }
 },
 "nbformat": 4,
 "nbformat_minor": 2
}
