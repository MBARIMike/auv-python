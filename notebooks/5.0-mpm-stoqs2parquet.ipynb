{
 "cells": [
  {
   "attachments": {},
   "cell_type": "markdown",
   "metadata": {},
   "source": [
    "Example of extracting a Parquet file from a STOQS database and loading it into a Pandas DataFrame for machine learning analysis.\n",
    "\n",
    "Go to https://stoqs.shore.mbari.org/stoqs_mb_diamonds/ and click the buttons of the Measured Parameters you want to include in the Parquet file. Then click the \"Measured Parameter Data Access\" section to open it and click the Estimate requirements button. Verify that the estimated values are within the available values.  The URL will look something like this:\n",
    "\n",
    "```url\n",
    "https://stoqs.shore.mbari.org/stoqs_mb_diamonds/api/measuredparameter.parquet?parameter__name=ecopuck_BB_Sig&parameter__name=ecopuck_CDOM_Sig&parameter__name=ecopuck_Chl_Sig&parameter__name=hs2_bb420&parameter__name=hs2_bb700&parameter__name=hs2_fl700&collect=name&include=activity__name\n",
    "```\n",
    "It took the stoqs.shore.mbari.org server around 5 minutes to generate the Parquet file for the above URL.  The file produced is 236 MB in size. Let's download it to the local machine and load it into a Pandas DataFrame."
   ]
  },
  {
   "cell_type": "code",
   "execution_count": 1,
   "metadata": {},
   "outputs": [],
   "source": [
    "import pandas as pd\n",
    "\n",
    "file_name = \"/Users/mccann/Downloads/stoqs_mb_diamonds.parquet\"\n",
    "df = pd.read_parquet(file_name)\n",
    "df.head()"
   ]
  },
  {
   "cell_type": "code",
   "execution_count": 2,
   "metadata": {},
   "outputs": [],
   "source": [
    "df.tail()"
   ]
  },
  {
   "cell_type": "code",
   "execution_count": 5,
   "metadata": {},
   "outputs": [],
   "source": [
    "import colorcet\n",
    "import holoviews as hv\n",
    "from holoviews.operation.datashader import datashade"
   ]
  },
  {
   "cell_type": "code",
   "execution_count": null,
   "metadata": {},
   "outputs": [],
   "source": []
  }
 ],
 "metadata": {
  "kernelspec": {
   "display_name": "auv-python-s1xEUhIL-py3.11",
   "language": "python",
   "name": "python3"
  },
  "language_info": {
   "codemirror_mode": {
    "name": "ipython",
    "version": 3
   },
   "file_extension": ".py",
   "mimetype": "text/x-python",
   "name": "python",
   "nbconvert_exporter": "python",
   "pygments_lexer": "ipython3",
   "version": "3.11.0"
  },
  "orig_nbformat": 4,
  "vscode": {
   "interpreter": {
    "hash": "fc7fa33d09250ad6744b33eca358e1590f79fe31a700ea4f244a8359de99c2b6"
   }
  }
 },
 "nbformat": 4,
 "nbformat_minor": 2
}
