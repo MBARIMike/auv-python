{
 "cells": [
  {
   "cell_type": "markdown",
   "metadata": {},
   "source": [
    "### Plot resampled variables against aligned data \n",
    "To run this Notebook:\n",
    "- Install with instructions at https://bitbucket.org/mbari/auv-python\n",
    "- `cd auv-python`\n",
    "- `poetry install && poetry shell`\n",
    "- `cd notebooks && jupyter notebook 2.0-mpm-resample.ipynb`"
   ]
  },
  {
   "cell_type": "code",
   "execution_count": null,
   "metadata": {
    "scrolled": true
   },
   "outputs": [],
   "source": [
    "import os\n",
    "import sys\n",
    "module_path = os.path.abspath(os.path.join('../src/data'));\n",
    "if module_path not in sys.path:\n",
    "    sys.path.append(module_path)\n",
    "import xarray as xr\n",
    "import hvplot.pandas\n",
    "import ipywidgets as widgets\n",
    "import pylab as plt\n",
    "import pandas as pd\n",
    "from logs2netcdfs import BASE_PATH, LOG_FILES\n",
    "\n",
    "# Pick auv_name available from locally processed files\n",
    "auv_picker = widgets.Dropdown(options=[f for f in sorted(os.listdir(BASE_PATH))\n",
    "                                               if f != '.DS_Store']);\n",
    "display(auv_picker);"
   ]
  },
  {
   "cell_type": "code",
   "execution_count": null,
   "metadata": {},
   "outputs": [],
   "source": [
    "# Pick auv mission on local system\n",
    "auv_name = auv_picker.value\n",
    "missions_dir = os.path.join(BASE_PATH, auv_name, 'missionnetcdfs')\n",
    "mission_picker = widgets.Dropdown(options=[f for f in sorted(os.listdir(missions_dir))\n",
    "                                                   if f != '.DS_Store'])\n",
    "display(mission_picker)"
   ]
  },
  {
   "cell_type": "code",
   "execution_count": null,
   "metadata": {
    "scrolled": true
   },
   "outputs": [],
   "source": [
    "mission = mission_picker.value\n",
    "\n",
    "netcdfs_dir = os.path.join(BASE_PATH, auv_name, 'missionnetcdfs', mission)\n",
    "    \n",
    "\n",
    "align_nc = f\"{auv_name}_{mission}_align.nc\"\n",
    "resample_nc = f\"{auv_name}_{mission}_1S.nc\"\n",
    "align_ds = xr.open_dataset(os.path.join(netcdfs_dir, align_nc))\n",
    "resample_ds = xr.open_dataset(os.path.join(netcdfs_dir, resample_nc))\n",
    "display(align_ds)\n",
    "display(resample_ds)"
   ]
  },
  {
   "cell_type": "code",
   "execution_count": null,
   "metadata": {
    "scrolled": true
   },
   "outputs": [],
   "source": [
    "%matplotlib widget\n",
    "\n",
    "plt.figure(figsize=(9,2))\n",
    "plt.plot(align_ds['ctd_time'],\n",
    "         align_ds['ctd_temperature'], '.',\n",
    "         resample_ds['time'],\n",
    "         resample_ds['ctd_temperature'],)\n",
    "plt.legend(('Aligned', 'Resampled'))\n",
    "title = \"Validating resampling of CTD temperature\"\n",
    "plt.title(title)\n",
    "plt.grid()"
   ]
  }
 ],
 "metadata": {
  "interpreter": {
   "hash": "0e88a3c760aba6ca9f3c3c0e4efdae2f2c9ba294b5b63f4f016b5adb40bc1793"
  },
  "kernelspec": {
   "display_name": "Python 3 (ipykernel)",
   "language": "python",
   "name": "python3"
  },
  "language_info": {
   "codemirror_mode": {
    "name": "ipython",
    "version": 3
   },
   "file_extension": ".py",
   "mimetype": "text/x-python",
   "name": "python",
   "nbconvert_exporter": "python",
   "pygments_lexer": "ipython3",
   "version": "3.8.5"
  }
 },
 "nbformat": 4,
 "nbformat_minor": 4
}
