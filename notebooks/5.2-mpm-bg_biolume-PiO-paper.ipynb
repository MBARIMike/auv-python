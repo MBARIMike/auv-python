{
 "cells": [
  {
   "attachments": {},
   "cell_type": "markdown",
   "metadata": {},
   "source": [
    "### Develop Python code that replicates the calculations in Appendix B of Messié et al. 2019\n",
    "\n",
    "The paper is at https://doi.org/10.1016/j.pocean.2018.12.010 and the Matlab code is at https://bitbucket.org/messiem/toolbox_blprocess/src/master/bl_window_smoothing.m"
   ]
  },
  {
   "cell_type": "code",
   "execution_count": 1,
   "metadata": {},
   "outputs": [],
   "source": [
    "import os\n",
    "import sys\n",
    "\n",
    "module_path = os.path.abspath(os.path.join(\"../src/data\"))\n",
    "if module_path not in sys.path:\n",
    "    sys.path.append(module_path)\n",
    "import numpy as np\n",
    "import xarray as xr\n",
    "import holoviews as hv\n",
    "import hvplot.pandas\n",
    "import ipywidgets as widgets\n",
    "from logs2netcdfs import BASE_PATH, MISSIONNETCDFS\n",
    "\n",
    "# Assumes that data have been processed locally with :\n",
    "# src/data/process_dorado.py --mission 2021.102.02 -v\n",
    "# (a typical Diamonnd mission with lots of peak flashes)\n",
    "# Share this view URL for this mission: http://stoqs.mbari.org/p/w2UREyQ\n",
    "auv_name = \"dorado\"\n",
    "mission = \"2021.102.02\""
   ]
  },
  {
   "cell_type": "code",
   "execution_count": 2,
   "metadata": {},
   "outputs": [],
   "source": [
    "# Load full resolution data from the _align.nc file into an xarray Dataset\n",
    "netcdfs_dir = os.path.join(BASE_PATH, auv_name, MISSIONNETCDFS, mission)\n",
    "opendap_base = os.path.join(\"http://dods.mbari.org:8181/opendap/data/auvctd/surveys/\", mission.split('.')[0], 'netcdf')\n",
    "# Use `opendap_base` to test new hyrax-docker opendap server\n",
    "ds_align = xr.open_dataset(os.path.join(netcdfs_dir, f\"{auv_name}_{mission}_align.nc\"))\n",
    "#ds_1S = xr.open_dataset(os.path.join(opendap_base, f\"{auv_name}_{mission}_1S.nc\"))\n",
    "print(\"New hyrax-docker link: \" + os.path.join(opendap_base, f\"{auv_name}_{mission}_align.nc\"))\n",
    "ds_align"
   ]
  },
  {
   "cell_type": "code",
   "execution_count": 3,
   "metadata": {},
   "outputs": [],
   "source": [
    "# Focus on a 10 minute period that is here in STOQS: http://stoqs.mbari.org/p/V3F_1d0\n",
    "# Do not commit to the repo the output of this cell, it is too large\n",
    "hv.extension(\"bokeh\")   # See https://github.com/holoviz/holoviews/issues/4861#issuecomment-1239739743\n",
    "subset_ds = ds_align[[\"biolume_raw\"]].sel(biolume_time60hz=slice(\"2021-04-13 10:00:00\", \"2021-04-13 10:10:00\"))\n",
    "df = subset_ds.to_pandas()\n",
    "raw_10m_plot = subset_ds[\"biolume_raw\"].to_pandas().rename(\"raw\").hvplot(color=\"grey\", width=1000, height=300, title=\"Raw 10 minute sample data\")\n",
    "raw_10m_plot"
   ]
  },
  {
   "cell_type": "code",
   "execution_count": 25,
   "metadata": {},
   "outputs": [],
   "source": [
    "# Borrowed from https://bitbucket.org/mbari/pybl/src/master/biolum/BLFilter.py\n",
    "# See also https://bitbucket.org/mbari/pybl/src/master/test/biolum/BLFilter_test.py\n",
    "import pandas as pd\n",
    "import rolling\n",
    "from BLFilter import Filter\n",
    "from scipy import signal\n",
    "\n",
    "sample_rate = 60\n",
    "window_size = 3 * sample_rate    # width of the filter in seconds\n",
    "\n",
    "# Compute background biolumenesence envelope\n",
    "filt = Filter(window_size=window_size, target_record_size=len(df))\n",
    "\n",
    "min_bg_unsmoothed, min_bg = filt.apply_filter((df[\"biolume_raw\"], []), rolling.Min)\n",
    "min_bg_unsmoothed_plot = pd.Series(min_bg_unsmoothed, index=df.index).rename(\"min_bg_unsmoothed\").hvplot(\n",
    "    width=1000, height=300, title=\"Background envelope and peaks for 10 minute sample data\"\n",
    ")\n",
    "min_bg_plot = pd.Series(min_bg, index=df.index).rename(\"min_bg\").hvplot()\n",
    "\n",
    "med_bg_unsmoothed, med_bg = filt.apply_filter((df[\"biolume_raw\"], []), rolling.Median)\n",
    "med_bg_unsmoothed_plot = pd.Series(med_bg_unsmoothed, index=df.index).rename(\"med_bg_unsmoothed\").hvplot()\n",
    "med_bg_plot = pd.Series(med_bg, index=df.index).rename(\"med_bg\").hvplot()\n",
    "\n",
    "above_bg = med_bg * 2.0 - min_bg\n",
    "above_bg_plot = pd.Series(above_bg, index=df.index).rename(\"above_bg\").hvplot()\n",
    "\n",
    "# Find the high and low peaks\n",
    "flash_threshold = 1.e11\n",
    "peaks, _ = signal.find_peaks(df[\"biolume_raw\"], height=above_bg)\n",
    "s_peaks = pd.Series(df[\"biolume_raw\"][peaks], index=df.index[peaks])\n",
    "nbflash_high = s_peaks[s_peaks > flash_threshold]\n",
    "nbflash_low = s_peaks[s_peaks <= flash_threshold]\n",
    "nbflash_high_plot = nbflash_high.rename(\"nbflash_high\").hvplot(kind=\"scatter\", color=\"red\", marker=\"star\", s=50)\n",
    "nbflash_low_plot = nbflash_low.rename(\"nbflash_low\").hvplot(kind=\"scatter\", color=\"yellow\", marker=\"star\", s=50)\n",
    "\n",
    "# Plot everything together\n",
    "min_bg_unsmoothed_plot * min_bg_plot * med_bg_plot * above_bg_plot * raw_10m_plot * nbflash_high_plot * nbflash_low_plot"
   ]
  },
  {
   "cell_type": "code",
   "execution_count": 97,
   "metadata": {},
   "outputs": [],
   "source": [
    "# Construct full time series of flashes with NaNs for non-flash values\n",
    "s_nbflash_high = pd.Series(np.nan, index=df.index)\n",
    "s_nbflash_high.loc[nbflash_high.index] = nbflash_high\n",
    "\n",
    "s_nbflash_low = pd.Series(np.nan, index=df.index)\n",
    "s_nbflash_low.loc[nbflash_low.index] = nbflash_low\n",
    "\n",
    "# Count the number of flashes per second\n",
    "nbflash_high_counts = s_nbflash_high.rolling(60, step=60, min_periods=0).count().resample(\"1S\").mean()\n",
    "nbflash_low_counts = s_nbflash_low.rolling(60, step=60, min_periods=0).count().resample(\"1S\").mean()\n",
    "\n",
    "nbflash_high_counts_plot = nbflash_high_counts.rename(\"nbflash_high_counts\").hvplot(width=1000, height=300, title=\"Counts of high per second\")\n",
    "nbflash_low_counts_plot = nbflash_low_counts.rename(\"nbflash_low_counts\").hvplot(width=1000, height=300, title=\"Counts of low flashes per second\")\n",
    "nbflash_high_counts_plot * nbflash_low_counts_plot\n"
   ]
  },
  {
   "cell_type": "code",
   "execution_count": null,
   "metadata": {},
   "outputs": [],
   "source": []
  }
 ],
 "metadata": {
  "kernelspec": {
   "display_name": "auv-python-s1xEUhIL-py3.10",
   "language": "python",
   "name": "python3"
  },
  "language_info": {
   "codemirror_mode": {
    "name": "ipython",
    "version": 3
   },
   "file_extension": ".py",
   "mimetype": "text/x-python",
   "name": "python",
   "nbconvert_exporter": "python",
   "pygments_lexer": "ipython3",
   "version": "3.10.8"
  },
  "orig_nbformat": 4,
  "vscode": {
   "interpreter": {
    "hash": "3c3b3e148980b25a09cf00d63a35b08e191085f19026c93a28fd1b260ffc2533"
   }
  }
 },
 "nbformat": 4,
 "nbformat_minor": 2
}
