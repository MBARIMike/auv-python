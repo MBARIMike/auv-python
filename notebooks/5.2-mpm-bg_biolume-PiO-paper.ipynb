{
 "cells": [
  {
   "attachments": {},
   "cell_type": "markdown",
   "metadata": {},
   "source": [
    "### Develop Python code that replicates the calculations in Appendix B of Messié et al. 2019\n",
    "\n",
    "The paper is at https://doi.org/10.1016/j.pocean.2018.12.010 and the Matlab code is at https://bitbucket.org/messiem/toolbox_blprocess/src/master/bl_window_smoothing.m"
   ]
  },
  {
   "cell_type": "code",
   "execution_count": null,
   "metadata": {},
   "outputs": [],
   "source": [
    "import os\n",
    "import sys\n",
    "\n",
    "module_path = os.path.abspath(os.path.join(\"../src/data\"))\n",
    "if module_path not in sys.path:\n",
    "    sys.path.append(module_path)\n",
    "import numpy as np\n",
    "import xarray as xr\n",
    "import holoviews as hv\n",
    "import hvplot.pandas\n",
    "import ipywidgets as widgets\n",
    "from logs2netcdfs import BASE_PATH, MISSIONNETCDFS\n",
    "\n",
    "# Assumes that data have been processed locally with:\n",
    "# src/data/process_dorado.py --mission 2021.102.02 -v\n",
    "# (a Diamond mission with lots of peak flashes at head of Soquel Canyon)\n",
    "# Share this view URL for this mission: http://stoqs.mbari.org/p/w2UREyQ\n",
    "auv_name = \"dorado\"\n",
    "mission = \"2021.102.02\""
   ]
  },
  {
   "cell_type": "code",
   "execution_count": null,
   "metadata": {},
   "outputs": [],
   "source": [
    "# Load full resolution data from the _align.nc file into an xarray Dataset\n",
    "netcdfs_dir = os.path.join(BASE_PATH, auv_name, MISSIONNETCDFS, mission)\n",
    "opendap_base = os.path.join(\"http://dods.mbari.org:8181/opendap/data/auvctd/surveys/\", mission.split('.')[0], 'netcdf')\n",
    "# Use `opendap_base` with port 8181 to test new hyrax-docker opendap server\n",
    "ds_align = xr.open_dataset(os.path.join(netcdfs_dir, f\"{auv_name}_{mission}_align.nc\"))\n",
    "ds_1S = xr.open_dataset(os.path.join(opendap_base, f\"{auv_name}_{mission}_1S.nc\"))\n",
    "print(\"New hyrax-docker link: \" + os.path.join(opendap_base, f\"{auv_name}_{mission}_align.nc\"))\n",
    "ds_align"
   ]
  },
  {
   "cell_type": "code",
   "execution_count": null,
   "metadata": {},
   "outputs": [],
   "source": [
    "# Focus on a 10 minute period that is here in STOQS: http://stoqs.mbari.org/p/V3F_1d0\n",
    "# Do not commit to the repo the output of this cell and the ones below, they are too large\n",
    "hv.extension(\"bokeh\")   # See https://github.com/holoviz/holoviews/issues/4861#issuecomment-1239739743\n",
    "subset_ds = ds_align[[\"biolume_raw\"]].sel(biolume_time60hz=slice(\"2021-04-13 10:00:00\", \"2021-04-13 10:10:00\"))\n",
    "df = subset_ds.to_pandas()\n",
    "raw_10m_plot = subset_ds[\"biolume_raw\"].to_pandas().rename(\"raw\").hvplot(color=\"grey\", width=1000, height=300, title=\"Raw 10 minute sample data\")\n",
    "raw_10m_plot"
   ]
  },
  {
   "cell_type": "code",
   "execution_count": null,
   "metadata": {},
   "outputs": [],
   "source": [
    "import pandas as pd\n",
    "import rolling\n",
    "\n",
    "def compute_bg_envelope(use_pandas_rolling):\n",
    "    # (1) Dinoflagellate and zooplankton proxies\n",
    "\n",
    "    from BLFilter import Filter # Borrowed from https://bitbucket.org/mbari/pybl/src/master/biolum/BLFilter.py\n",
    "                                # See also https://bitbucket.org/mbari/pybl/src/master/test/biolum/BLFilter_test.py\n",
    "    from scipy import signal\n",
    "\n",
    "    sample_rate = 60\n",
    "    window_size = 15 * sample_rate    # number is width of the filter in seconds\n",
    "\n",
    "    # Compute background biolumenesence envelope\n",
    "    filt = Filter(window_size=window_size, target_record_size=len(df))\n",
    "\n",
    "    if use_pandas_rolling:\n",
    "        min_bg_unsmoothed = df[\"biolume_raw\"].rolling(window_size, min_periods=0, center=True).min()\n",
    "        min_bg = min_bg_unsmoothed.rolling(window_size, min_periods=0, center=True).mean().values\n",
    "        title = \"Background envelope and peaks for 10 minute sample data - Pandas rolling\"\n",
    "    else:\n",
    "        # BLFilter.Filter.apply_filter() takes 30 seconds for a mission - Pandas is likely faster\n",
    "        min_bg_unsmoothed, min_bg = filt.apply_filter((df[\"biolume_raw\"], []), rolling.Min)\n",
    "        title = \"Background envelope and peaks for 10 minute sample data - BLFilter\"\n",
    "\n",
    "    min_bg_unsmoothed_plot = pd.Series(min_bg_unsmoothed, index=df.index).rename(\"min_bg_unsmoothed\").hvplot(\n",
    "        width=1000, height=300, title=title\n",
    "    )\n",
    "    min_bg_plot = pd.Series(min_bg, index=df.index).rename(\"min_bg\").hvplot()\n",
    "\n",
    "    if use_pandas_rolling:\n",
    "        med_bg_unsmoothed = df[\"biolume_raw\"].rolling(window_size, min_periods=0, center=True).median()\n",
    "        med_bg = med_bg_unsmoothed.rolling(window_size, min_periods=0, center=True).mean().values\n",
    "    else:\n",
    "        # BLFilter.Filter.apply_filter() takes 30 seconds for a mission - Pandas is likely faster\n",
    "        med_bg_unsmoothed, med_bg = filt.apply_filter((df[\"biolume_raw\"], []), rolling.Median)\n",
    "\n",
    "    med_bg_unsmoothed_plot = pd.Series(med_bg_unsmoothed, index=df.index).rename(\"med_bg_unsmoothed\").hvplot()\n",
    "    med_bg_plot = pd.Series(med_bg, index=df.index).rename(\"med_bg\").hvplot()\n",
    "\n",
    "    above_bg = med_bg * 2.0 - min_bg\n",
    "    above_bg_plot = pd.Series(above_bg, index=df.index).rename(\"above_bg\").hvplot()\n",
    "\n",
    "    # Find the high and low peaks\n",
    "    flash_threshold = 1.e11\n",
    "    peaks, _ = signal.find_peaks(df[\"biolume_raw\"], height=above_bg)\n",
    "    s_peaks = pd.Series(df[\"biolume_raw\"][peaks], index=df.index[peaks])\n",
    "    nbflash_high = s_peaks[s_peaks > flash_threshold]\n",
    "    nbflash_low = s_peaks[s_peaks <= flash_threshold]\n",
    "    nbflash_high_plot = nbflash_high.rename(\"nbflash_high\").hvplot(kind=\"scatter\", color=\"red\", marker=\"star\", s=50)\n",
    "    nbflash_low_plot = nbflash_low.rename(\"nbflash_low\").hvplot(kind=\"scatter\", color=\"yellow\", marker=\"star\", s=50)\n",
    "\n",
    "    # Plot everything together\n",
    "    plots = min_bg_unsmoothed_plot * min_bg_plot * med_bg_plot * above_bg_plot * raw_10m_plot * nbflash_high_plot * nbflash_low_plot\n",
    "    return med_bg, nbflash_high, nbflash_low, plots"
   ]
  },
  {
   "cell_type": "code",
   "execution_count": null,
   "metadata": {},
   "outputs": [],
   "source": [
    "# Visually compare the results of BLFilter.Filter.apply_filter() and Pandas rolling functions\n",
    "med_bg, nbflash_high, nbflash_low, plots = compute_bg_envelope(use_pandas_rolling=False)\n",
    "plots"
   ]
  },
  {
   "cell_type": "code",
   "execution_count": null,
   "metadata": {},
   "outputs": [],
   "source": [
    "# Visually compare the results of BLFilter.Filter.apply_filter() and Pandas rolling functions\n",
    "med_bg, nbflash_high, nbflash_low, plots = compute_bg_envelope(use_pandas_rolling=True)\n",
    "plots"
   ]
  },
  {
   "cell_type": "code",
   "execution_count": null,
   "metadata": {},
   "outputs": [],
   "source": [
    "# Construct full time series of background BL and flashes with NaNs for non-flash values\n",
    "s_med_bg = pd.Series(med_bg, index=df.index).resample(\"1S\").median()\n",
    "\n",
    "s_nbflash_high = pd.Series(np.nan, index=df.index)\n",
    "s_nbflash_high.loc[nbflash_high.index] = nbflash_high\n",
    "\n",
    "s_nbflash_low = pd.Series(np.nan, index=df.index)\n",
    "s_nbflash_low.loc[nbflash_low.index] = nbflash_low\n",
    "\n",
    "# Count the number of flashes per second\n",
    "nbflash_high_counts = s_nbflash_high.rolling(60, step=60, min_periods=0).count().resample(\"1S\").mean()\n",
    "nbflash_low_counts = s_nbflash_low.rolling(60, step=60, min_periods=0).count().resample(\"1S\").mean()\n",
    "\n",
    "# Compute flashes per liter\n",
    "flow = ds_align[[\"biolume_flow\"]].sel(biolume_time=slice(\"2021-04-13 10:00:00\", \"2021-04-13 10:10:00\"))[\"biolume_flow\"].to_pandas().resample(\"1S\").mean()\n",
    "nbflash_high_per_liter = nbflash_high_counts.divide(flow) * 1000\n",
    "nbflash_low_per_liter = nbflash_low_counts.divide(flow) * 1000\n",
    "\n",
    "nbflash_high_per_liter_plot = nbflash_high_per_liter.rename(\"nbflash_high\").hvplot(width=1000, height=300, title=\"Counts of flashes per liter\", color=\"red\")\n",
    "nbflash_low_per_liter_plot = nbflash_low_per_liter.rename(\"nbflash_low\").hvplot(color=\"yellow\")\n",
    "nbflash_high_per_liter_plot * nbflash_low_per_liter_plot\n"
   ]
  },
  {
   "cell_type": "code",
   "execution_count": null,
   "metadata": {},
   "outputs": [],
   "source": [
    "# Create Fig. 5 in the paper - Histogram of bg_BL/fluo ratio for the whole mission\n",
    "# Compute the ratio of nighttime background BL to fluorescence from the 1S.nc file\n",
    "fluo = ds_1S[\"hs2_fl700\"].to_pandas()\n",
    "fluo[fluo < 0] = 0.0    # Remove negative values\n",
    "bg_BL = ds_1S[\"biolume_bg_biolume\"].to_pandas()\n",
    "\n",
    "bg_bl_fluo_ratio = bg_BL.divide(fluo).dropna().replace([np.inf, -np.inf], np.nan).dropna()\n",
    "bg_bl_fluo_ratio_plot = bg_bl_fluo_ratio.rename(\"bg_bl_fluo_ratio\").hvplot(width=1000, height=300, title=\"bg_BL/fluo ratio\")\n",
    "# Individual time series plots\n",
    "#fluo.rename(\"fluo\").hvplot()\n",
    "#bg_BL.rename(\"bg_BL\").hvplot()\n",
    "#bg_bl_fluo_ratio_plot\n",
    "\n",
    "# Histogram of bg_BL/fluo ratio - TODO: plot does not seem to be correct based on .describe() output\n",
    "bg_bl_fluo_ratio_hist = bg_bl_fluo_ratio.rename(\"bg_bl_fluo_ratio\").hvplot.hist(width=1000, height=300, title=\"Histogram of bg_BL/fluo ratio\", bins=1000, logx=True, xlim=(1.e8, 1.e16) )  \n",
    "print(bg_bl_fluo_ratio.describe())\n",
    "bg_bl_fluo_ratio_hist"
   ]
  },
  {
   "cell_type": "code",
   "execution_count": null,
   "metadata": {},
   "outputs": [],
   "source": [
    "# (2) H-dino, a-dino and a-other proxies\n",
    "# See https://bitbucket.org/mbari/pybl/src/master/biolum/BLProxies.py\n",
    "# Proxy configs\n",
    "\n",
    "# From: https://bitbucket.org/messiem/toolbox_blprocess/src/master/bl_proxies_fluobiolum.m\n",
    "#\tfluo: fluorescence (proxy for phytoplankton = adinos + aother)\n",
    "#\tbgrd_BL: background bioluminescence (proxy for dinoflagellates)\n",
    "# \tratioAdinos: typical bgrd_BL/fluo ratio for dinoflagellates populations, typically identified from an histogram over an entire dataset\n",
    "#\tcalfactor: possible calibration to normalize the proxies (typically fluorescence 99th percentile). \n",
    "#\t\tIf not given, no calibration is applied (calfactor=1) and the proxies are given in fluorescence units.\n",
    "\n",
    "# From: https://bitbucket.org/mbari/pybl/src/master/biolum/BLProxies.py\n",
    "proxy_ratio_adinos = 2.65E+10\n",
    "proxy_ratio_adinos = bg_BL.quantile(0.99) / fluo.quantile(0.99)\n",
    "print(f\"Using proxy_ratio_adinos = {proxy_ratio_adinos:.2e}, computed from 99th percentile of bg_BL and fluo\")\n",
    "\n",
    "proxy_cal_factor = 11.6739\n",
    "\n",
    "# Compare with proxies loaded for this 10 minute period into stoqs_all_dorado: http://stoqs.mbari.org/p/HfbS8zQ\n",
    "pseudo_fluorescence = s_med_bg / proxy_ratio_adinos\n",
    "#fluo = ds_align[\"ecopuck_chl\"].sel(ecopuck_time=slice(\"2021-04-13 10:00:00\", \"2021-04-13 10:10:00\")).to_pandas().resample('1S').mean().values\n",
    "fluo = ds_align[\"hs2_fl700\"].sel(hs2_time=slice(\"2021-04-13 10:00:00\", \"2021-04-13 10:10:00\")).to_pandas().resample('1S').mean()\n",
    "adinos = np.minimum(fluo.values, pseudo_fluorescence) / proxy_cal_factor\n",
    "hdinos = (pseudo_fluorescence - np.minimum(fluo.values, pseudo_fluorescence)) / proxy_cal_factor\n",
    "\n",
    "# Plot the proxies\n",
    "pseudo_fluorescence_plot = pseudo_fluorescence.rename(\"pseudo_fluorescence\").hvplot()\n",
    "fluo_plot = fluo.rename(\"fluo\").hvplot()\n",
    "adinos_plot = pd.Series(adinos, index=s_med_bg.index).rename(\"adinos\").hvplot()\n",
    "hdinos_plot = pd.Series(hdinos, index=s_med_bg.index).rename(\"hdinos\").hvplot()\n",
    "\n",
    "pseudo_fluorescence_plot * fluo_plot * adinos_plot * hdinos_plot"
   ]
  },
  {
   "cell_type": "code",
   "execution_count": null,
   "metadata": {},
   "outputs": [],
   "source": []
  }
 ],
 "metadata": {
  "kernelspec": {
   "display_name": "auv-python-s1xEUhIL-py3.10",
   "language": "python",
   "name": "python3"
  },
  "language_info": {
   "codemirror_mode": {
    "name": "ipython",
    "version": 3
   },
   "file_extension": ".py",
   "mimetype": "text/x-python",
   "name": "python",
   "nbconvert_exporter": "python",
   "pygments_lexer": "ipython3",
   "version": "3.10.8"
  },
  "vscode": {
   "interpreter": {
    "hash": "3c3b3e148980b25a09cf00d63a35b08e191085f19026c93a28fd1b260ffc2533"
   }
  }
 },
 "nbformat": 4,
 "nbformat_minor": 2
}
