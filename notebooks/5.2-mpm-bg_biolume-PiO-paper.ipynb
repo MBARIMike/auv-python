{
 "cells": [
  {
   "attachments": {},
   "cell_type": "markdown",
   "metadata": {},
   "source": [
    "### Develop Python code that replicates the calculations in Appendix B of Messié et al. 2019\n",
    "\n",
    "The paper is at https://doi.org/10.1016/j.pocean.2018.12.010 and the Matlab code is at https://bitbucket.org/messiem/toolbox_blprocess/src/master/bl_window_smoothing.m"
   ]
  },
  {
   "cell_type": "code",
   "execution_count": 25,
   "metadata": {},
   "outputs": [],
   "source": [
    "import os\n",
    "import sys\n",
    "\n",
    "module_path = os.path.abspath(os.path.join(\"../src/data\"))\n",
    "if module_path not in sys.path:\n",
    "    sys.path.append(module_path)\n",
    "import numpy as np\n",
    "import xarray as xr\n",
    "import holoviews as hv\n",
    "import hvplot.pandas\n",
    "import ipywidgets as widgets\n",
    "from logs2netcdfs import BASE_PATH, MISSIONNETCDFS\n",
    "\n",
    "# Assumes that data have been processed locally with :\n",
    "# src/data/process_dorado.py --mission 2021.102.02 -v\n",
    "# (a typical Diamonnd mission with lots of peak flashes)\n",
    "# Share this view URL for this mission: http://stoqs.mbari.org/p/w2UREyQ\n",
    "auv_name = \"dorado\"\n",
    "mission = \"2021.102.02\""
   ]
  },
  {
   "cell_type": "code",
   "execution_count": 26,
   "metadata": {},
   "outputs": [],
   "source": [
    "# Load full resolution data from the _align.nc file into an xarray Dataset\n",
    "netcdfs_dir = os.path.join(BASE_PATH, auv_name, MISSIONNETCDFS, mission)\n",
    "opendap_base = os.path.join(\"http://dods.mbari.org:8181/opendap/data/auvctd/surveys/\", mission.split('.')[0], 'netcdf')\n",
    "# Use `opendap_base` to test new hyrax-docker opendap server\n",
    "ds_align = xr.open_dataset(os.path.join(netcdfs_dir, f\"{auv_name}_{mission}_align.nc\"))\n",
    "#ds_1S = xr.open_dataset(os.path.join(opendap_base, f\"{auv_name}_{mission}_1S.nc\"))\n",
    "print(\"New hyrax-docker link: \" + os.path.join(opendap_base, f\"{auv_name}_{mission}_align.nc\"))\n",
    "ds_align"
   ]
  },
  {
   "cell_type": "code",
   "execution_count": 33,
   "metadata": {},
   "outputs": [],
   "source": [
    "# Focus on a 10 minute period that is here in STOQS: http://stoqs.mbari.org/p/V3F_1d0\n",
    "# Do not commit to the repo the output of this cell, it is too large\n",
    "hv.extension(\"bokeh\")   # See https://github.com/holoviz/holoviews/issues/4861#issuecomment-1239739743\n",
    "subset_ds = ds_align[[\"biolume_raw\"]].sel(biolume_time60hz=slice(\"2021-04-13 10:00:00\", \"2021-04-13 10:10:00\"))\n",
    "df = subset_ds.to_pandas()\n",
    "raw_10m_plot = subset_ds[\"biolume_raw\"].to_pandas().rename(\"raw\").hvplot(color=\"grey\", width=1000, height=300, title=\"Raw 10 minute sample data\")\n",
    "raw_10m_plot"
   ]
  },
  {
   "cell_type": "code",
   "execution_count": 42,
   "metadata": {},
   "outputs": [],
   "source": [
    "# Borrowed from https://bitbucket.org/mbari/pybl/src/master/biolum/BLFilter.py\n",
    "# See also https://bitbucket.org/mbari/pybl/src/master/test/biolum/BLFilter_test.py\n",
    "import pandas as pd\n",
    "import rolling\n",
    "from BLFilter import Filter\n",
    "from scipy import signal\n",
    "\n",
    "sample_rate = 60\n",
    "window_size = 3 * sample_rate    # width of the filter in seconds\n",
    "\n",
    "# Compute and plot background envelope for the 2 minute data subset\n",
    "filt = Filter(window_size=window_size, target_record_size=len(df))\n",
    "\n",
    "min_bg_unsmoothed, min_bg = filt.apply_filter((df[\"biolume_raw\"], []), rolling.Min)\n",
    "min_bg_unsmoothed_plot = pd.Series(min_bg_unsmoothed, index=df.index).rename(\"min_bg_unsmoothed\").hvplot(\n",
    "    width=1000, height=300, title=\"Background envelope and peaks for 10 minute sample data\"\n",
    ")\n",
    "min_bg_plot = pd.Series(min_bg, index=df.index).rename(\"min_bg\").hvplot()\n",
    "\n",
    "med_bg_unsmoothed, med_bg = filt.apply_filter((df[\"biolume_raw\"], []), rolling.Median)\n",
    "med_bg_unsmoothed_plot = pd.Series(med_bg_unsmoothed, index=df.index).rename(\"med_bg_unsmoothed\").hvplot()\n",
    "med_bg_plot = pd.Series(med_bg, index=df.index).rename(\"med_bg\").hvplot()\n",
    "\n",
    "above_bg = med_bg * 2.0 - min_bg\n",
    "above_bg_plot = pd.Series(above_bg, index=df.index).rename(\"above_bg\").hvplot()\n",
    "\n",
    "# Find the peaks in the 10 minute data subset\n",
    "peaks, _ = signal.find_peaks(df[\"biolume_raw\"], height=above_bg)\n",
    "peaks_plot = pd.Series(df[\"biolume_raw\"][peaks], index=df.index[peaks]).rename(\"peaks\").hvplot(kind=\"scatter\", color=\"orange\", marker=\"star\", s=50)\n",
    "\n",
    "min_bg_unsmoothed_plot * min_bg_plot * med_bg_plot * above_bg_plot * raw_10m_plot * peaks_plot"
   ]
  },
  {
   "cell_type": "code",
   "execution_count": null,
   "metadata": {},
   "outputs": [],
   "source": []
  }
 ],
 "metadata": {
  "kernelspec": {
   "display_name": "auv-python-s1xEUhIL-py3.10",
   "language": "python",
   "name": "python3"
  },
  "language_info": {
   "codemirror_mode": {
    "name": "ipython",
    "version": 3
   },
   "file_extension": ".py",
   "mimetype": "text/x-python",
   "name": "python",
   "nbconvert_exporter": "python",
   "pygments_lexer": "ipython3",
   "version": "3.10.8"
  },
  "orig_nbformat": 4,
  "vscode": {
   "interpreter": {
    "hash": "3c3b3e148980b25a09cf00d63a35b08e191085f19026c93a28fd1b260ffc2533"
   }
  }
 },
 "nbformat": 4,
 "nbformat_minor": 2
}
