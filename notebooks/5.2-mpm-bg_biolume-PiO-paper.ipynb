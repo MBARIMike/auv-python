{
 "cells": [
  {
   "attachments": {},
   "cell_type": "markdown",
   "metadata": {},
   "source": [
    "### Develop Python code that replicates the calculations in Appendix B of Messié et al. 2019\n",
    "\n",
    "The paper is at https://doi.org/10.1016/j.pocean.2018.12.010 and the Matlab code is at https://bitbucket.org/messiem/toolbox_blprocess/src/master/bl_window_smoothing.m"
   ]
  },
  {
   "cell_type": "code",
   "execution_count": null,
   "metadata": {},
   "outputs": [],
   "source": [
    "import os\n",
    "import sys\n",
    "\n",
    "module_path = os.path.abspath(os.path.join(\"../src/data\"))\n",
    "if module_path not in sys.path:\n",
    "    sys.path.append(module_path)\n",
    "import xarray as xr\n",
    "import holoviews as hv\n",
    "import hvplot.pandas\n",
    "import ipywidgets as widgets\n",
    "from logs2netcdfs import BASE_PATH, MISSIONNETCDFS\n",
    "\n",
    "# Assumes that data have been processed locally using src/data/process_dorado.py\n",
    "# Pick a typical Diamonnd mission with lots of peak flashes\n",
    "# Share this view URL for this mission: http://stoqs.mbari.org/p/w2UREyQ\n",
    "auv_name = \"dorado\"\n",
    "mission = \"2021.102.02\""
   ]
  },
  {
   "cell_type": "code",
   "execution_count": null,
   "metadata": {},
   "outputs": [],
   "source": [
    "netcdfs_dir = os.path.join(BASE_PATH, auv_name, MISSIONNETCDFS, mission)\n",
    "opendap_base = os.path.join(\"http://dods.mbari.org:8181/opendap/data/auvctd/surveys/\", mission.split('.')[0], 'netcdf')\n",
    "# Use `opendap_base` to test new hyrax-docker opendap server\n",
    "ds_align = xr.open_dataset(os.path.join(netcdfs_dir, f\"{auv_name}_{mission}_align.nc\"))\n",
    "#ds_1S = xr.open_dataset(os.path.join(opendap_base, f\"{auv_name}_{mission}_1S.nc\"))\n",
    "print(\"New hyrax-docker link: \" + os.path.join(opendap_base, f\"{auv_name}_{mission}_align.nc\"))\n",
    "ds_align"
   ]
  },
  {
   "cell_type": "code",
   "execution_count": null,
   "metadata": {},
   "outputs": [],
   "source": [
    "# Focus on a 10 minute period that is here in STOQS: http://stoqs.mbari.org/p/V3F_1d0\n",
    "# Do not commit to the repo the output of this cell, it is too large - about 70 MB\n",
    "hv.extension(\"bokeh\")   # See https://github.com/holoviz/holoviews/issues/4861#issuecomment-1239739743\n",
    "raw_plot_2m = ds_align[\"biolume_raw\"].sel(biolume_time60hz=slice(\"2021-04-13 10:00:00\", \"2021-04-13 10:10:00\")).to_pandas().rename(\"raw\").hvplot()\n",
    "raw_plot_2m"
   ]
  },
  {
   "cell_type": "code",
   "execution_count": null,
   "metadata": {},
   "outputs": [],
   "source": []
  }
 ],
 "metadata": {
  "kernelspec": {
   "display_name": "auv-python-s1xEUhIL-py3.10",
   "language": "python",
   "name": "python3"
  },
  "language_info": {
   "codemirror_mode": {
    "name": "ipython",
    "version": 3
   },
   "file_extension": ".py",
   "mimetype": "text/x-python",
   "name": "python",
   "nbconvert_exporter": "python",
   "pygments_lexer": "ipython3",
   "version": "3.10.8"
  },
  "orig_nbformat": 4,
  "vscode": {
   "interpreter": {
    "hash": "3c3b3e148980b25a09cf00d63a35b08e191085f19026c93a28fd1b260ffc2533"
   }
  }
 },
 "nbformat": 4,
 "nbformat_minor": 2
}
