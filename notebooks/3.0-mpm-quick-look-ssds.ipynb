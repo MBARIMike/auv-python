{
 "cells": [
  {
   "cell_type": "markdown",
   "metadata": {},
   "source": [
    "### Plot data from the netCDF conversions of the original log files and compare with SSDS generated version\n",
    "To run this Notebook:\n",
    "- Install with instructions at https://bitbucket.org/mbari/auv-python\n",
    "- `cd auv-python`\n",
    "- `poetry install && poetry shell`\n",
    "- `cd notebooks && jupyter notebook 3.0-mpm-quick-look-ssds.ipynb`"
   ]
  },
  {
   "cell_type": "code",
   "execution_count": null,
   "metadata": {
    "scrolled": true
   },
   "outputs": [],
   "source": [
    "import os\n",
    "import sys\n",
    "module_path = os.path.abspath(os.path.join('../src/data'))\n",
    "if module_path not in sys.path:\n",
    "    sys.path.append(module_path)\n",
    "import xarray as xr\n",
    "import hvplot.pandas\n",
    "import ipywidgets as widgets\n",
    "import pandas as pd\n",
    "from logs2netcdfs import BASE_PATH, LOG_FILES\n",
    "\n",
    "# Pick auv_name available from locally processed files\n",
    "auv_picker = widgets.Dropdown(options=[f for f in sorted(os.listdir(BASE_PATH))\n",
    "                                               if f != '.DS_Store'])\n",
    "display(auv_picker)"
   ]
  },
  {
   "cell_type": "code",
   "execution_count": null,
   "metadata": {},
   "outputs": [],
   "source": [
    "# Pick auv mission on local system\n",
    "auv_name = auv_picker.value\n",
    "missions_dir = os.path.join(BASE_PATH, auv_name, 'missionnetcdfs')\n",
    "mission_picker = widgets.Dropdown(options=[f for f in sorted(os.listdir(missions_dir))\n",
    "                                                   if f != '.DS_Store'])\n",
    "display(mission_picker)"
   ]
  },
  {
   "cell_type": "code",
   "execution_count": null,
   "metadata": {
    "scrolled": true
   },
   "outputs": [],
   "source": [
    "mission = mission_picker.value\n",
    "\n",
    "# Get handle to corresponding SSDS generated netCDF\n",
    "ssds_path = os.path.join('http://dods.mbari.org:80/opendap/data/ssdsdata/ssds/generated/netcdf/files',\n",
    "                         'ssds.shore.mbari.org/auvctd/missionlogs/', mission.split('.')[0],\n",
    "                         ''.join(mission.split('.')[:2]), mission)\n",
    "\n",
    "# Read all the netCDF file data into in-memory xarray objects saved in a dictionary\n",
    "netcdfs_dir = os.path.join(BASE_PATH, auv_name, 'missionnetcdfs', mission)\n",
    "ncs = {}\n",
    "dds = {}\n",
    "for lf in LOG_FILES:\n",
    "    nc_file = lf.replace('.log', '.nc')\n",
    "    try:\n",
    "        nc_url = os.path.join(netcdfs_dir, nc_file)\n",
    "        ncs[nc_file] = xr.open_dataset(nc_url)\n",
    "    except (FileNotFoundError, OSError):\n",
    "        print(f'{nc_url} not found')\n",
    "    try:\n",
    "        dd_url = os.path.join(ssds_path, nc_file)\n",
    "        dds[nc_file] = xr.open_dataset(dd_url)\n",
    "    except (FileNotFoundError, OSError):\n",
    "        print(f'{dd_url} not found')"
   ]
  },
  {
   "cell_type": "code",
   "execution_count": null,
   "metadata": {
    "scrolled": true
   },
   "outputs": [],
   "source": [
    "# Print the variables in each data set\n",
    "for nc_file, ds in ncs.items():\n",
    "    print(f\"{nc_file}: {[v for v in list(ds)]}\")\n",
    "    ##display(ds) # Uncomment to explore all the attributes"
   ]
  },
  {
   "cell_type": "code",
   "execution_count": null,
   "metadata": {
    "scrolled": false
   },
   "outputs": [],
   "source": [
    "# Pick the converted log to examine\n",
    "ds_picker = widgets.Dropdown(options=ncs.keys())\n",
    "display(ds_picker)"
   ]
  },
  {
   "cell_type": "code",
   "execution_count": null,
   "metadata": {},
   "outputs": [],
   "source": [
    "# Pick the variable to plot\n",
    "var_picker = widgets.Dropdown(options=list(ncs[ds_picker.value]))\n",
    "display(var_picker)"
   ]
  },
  {
   "cell_type": "code",
   "execution_count": null,
   "metadata": {
    "scrolled": false
   },
   "outputs": [],
   "source": [
    "variable = var_picker.value\n",
    " \n",
    "local_ds = ncs[ds_picker.value]\n",
    "ssds_ds = dds[ds_picker.value]\n",
    "\n",
    "var = getattr(local_ds, variable)\n",
    "try:\n",
    "    d_var = getattr(ssds_ds, variable)\n",
    "except AttributeError as e:\n",
    "    d_var = xr.DataArray([])\n",
    "\n",
    "# Plot first hour of locally generated variable with the one created and served by SSDS\n",
    "first_hour = local_ds.time.values[0].astype('str').split(':')[0]    \n",
    "df = pd.concat([local_ds[variable].sel(time=first_hour).to_pandas().rename(f\"auv-python\"),\n",
    "                 ssds_ds[variable].sel(time=first_hour).to_pandas().rename(f\"SSDS\")], axis=1)\n",
    "display(df.hvplot(ylabel=f\"{var.attrs['long_name']} [{var.attrs.get('units', '')}]\"))"
   ]
  },
  {
   "cell_type": "code",
   "execution_count": null,
   "metadata": {},
   "outputs": [],
   "source": []
  }
 ],
 "metadata": {
  "interpreter": {
   "hash": "0e88a3c760aba6ca9f3c3c0e4efdae2f2c9ba294b5b63f4f016b5adb40bc1793"
  },
  "kernelspec": {
   "display_name": "Python 3.8.5 64-bit ('auv-python-s1xEUhIL-py3.8': poetry)",
   "name": "python3"
  },
  "language_info": {
   "codemirror_mode": {
    "name": "ipython",
    "version": 3
   },
   "file_extension": ".py",
   "mimetype": "text/x-python",
   "name": "python",
   "nbconvert_exporter": "python",
   "pygments_lexer": "ipython3",
   "version": "3.8.5"
  }
 },
 "nbformat": 4,
 "nbformat_minor": 4
}
