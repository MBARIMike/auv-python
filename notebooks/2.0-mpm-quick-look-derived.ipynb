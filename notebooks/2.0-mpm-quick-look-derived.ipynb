{
 "cells": [
  {
   "cell_type": "markdown",
   "metadata": {},
   "source": [
    "### Plot derived variables against original data \n",
    "To run this Notebook:\n",
    "- Install with instructions at https://bitbucket.org/mbari/auv-python\n",
    "- `cd auv-python`\n",
    "- `poetry install && poetry shell`\n",
    "- `cd notebooks && jupyter notebook 2.0-mpm-quick-look-derived.ipynb`"
   ]
  },
  {
   "cell_type": "code",
   "execution_count": null,
   "metadata": {
    "scrolled": true
   },
   "outputs": [],
   "source": [
    "import os\n",
    "import sys\n",
    "module_path = os.path.abspath(os.path.join('../src/data'))\n",
    "if module_path not in sys.path:\n",
    "    sys.path.append(module_path)\n",
    "import xarray as xr\n",
    "import hvplot.pandas\n",
    "import ipywidgets as widgets\n",
    "import pylab as plt\n",
    "import pandas as pd\n",
    "from logs2netcdfs import BASE_PATH, LOG_FILES\n",
    "\n",
    "# Pick auv_name available from locally processed files\n",
    "auv_picker = widgets.Dropdown(options=[f for f in sorted(os.listdir(BASE_PATH))\n",
    "                                               if f != '.DS_Store'])\n",
    "display(auv_picker)"
   ]
  },
  {
   "cell_type": "code",
   "execution_count": null,
   "metadata": {},
   "outputs": [],
   "source": [
    "# Pick auv mission on local system\n",
    "auv_name = auv_picker.value\n",
    "missions_dir = os.path.join(BASE_PATH, auv_name, 'missionnetcdfs')\n",
    "mission_picker = widgets.Dropdown(options=[f for f in sorted(os.listdir(missions_dir))\n",
    "                                                   if f != '.DS_Store'])\n",
    "display(mission_picker)"
   ]
  },
  {
   "cell_type": "code",
   "execution_count": null,
   "metadata": {
    "scrolled": true
   },
   "outputs": [],
   "source": [
    "mission = mission_picker.value\n",
    "\n",
    "# Read all the netCDF file data into in-memory xarray objects saved in a dictionary\n",
    "netcdfs_dir = os.path.join(BASE_PATH, auv_name, 'missionnetcdfs', mission)\n",
    "ncs = {}\n",
    "for lf in LOG_FILES:\n",
    "    nc_file = lf.replace('.log', '.nc')\n",
    "    try:\n",
    "        ncs[nc_file] = xr.open_dataset(os.path.join(netcdfs_dir, nc_file))\n",
    "    except FileNotFoundError:\n",
    "        pass\n",
    "    \n",
    "cal_align = f\"{auv_name}_{mission}.nc\"\n",
    "ncs[cal_align] = xr.open_dataset(os.path.join(netcdfs_dir, cal_align))\n",
    "display(ncs[cal_align])      # Uncomment to explore dataset"
   ]
  },
  {
   "cell_type": "code",
   "execution_count": null,
   "metadata": {
    "scrolled": true
   },
   "outputs": [],
   "source": [
    "%matplotlib notebook\n",
    "\n",
    "plt.figure(figsize=(9,2))\n",
    "plt.plot(ncs[cal_align]['depth_time'],\n",
    "         ncs[cal_align]['depth_filtdepth'], 'b-',\n",
    "         ncs[cal_align]['navigation_time'],\n",
    "         ncs[cal_align]['navigation_depth'], 'y:o',\n",
    "         ncs['parosci.nc']['time'],\n",
    "         ncs['parosci.nc']['depth'], '.')\n",
    "plt.legend(('depth_filtdepth', 'navigation_depth', 'parosci_depth'))\n",
    "title = \"Comparing Depth Variables\"\n",
    "plt.title(title)\n",
    "plt.grid()"
   ]
  },
  {
   "cell_type": "code",
   "execution_count": null,
   "metadata": {
    "scrolled": true
   },
   "outputs": [],
   "source": [
    "# Print the variables in each data set\n",
    "for nc_file, ds in ncs.items():\n",
    "    print(f\"{nc_file}: {[v for v in list(ds)]}\")\n",
    "    ##display(ds) # Uncomment to explore all the attributes"
   ]
  },
  {
   "cell_type": "code",
   "execution_count": null,
   "metadata": {
    "scrolled": false
   },
   "outputs": [],
   "source": [
    "# Pick the converted log to examine\n",
    "ds_picker = widgets.Dropdown(options=ncs.keys())\n",
    "display(ds_picker)"
   ]
  },
  {
   "cell_type": "code",
   "execution_count": null,
   "metadata": {},
   "outputs": [],
   "source": [
    "# Pick the variable to plot\n",
    "var_picker = widgets.Dropdown(options=list(ncs[ds_picker.value]))\n",
    "display(var_picker)"
   ]
  },
  {
   "cell_type": "code",
   "execution_count": null,
   "metadata": {},
   "outputs": [],
   "source": []
  }
 ],
 "metadata": {
  "interpreter": {
   "hash": "0e88a3c760aba6ca9f3c3c0e4efdae2f2c9ba294b5b63f4f016b5adb40bc1793"
  },
  "kernelspec": {
   "display_name": "Python 3.8.5 64-bit ('auv-python-s1xEUhIL-py3.8': poetry)",
   "name": "python3"
  },
  "language_info": {
   "codemirror_mode": {
    "name": "ipython",
    "version": 3
   },
   "file_extension": ".py",
   "mimetype": "text/x-python",
   "name": "python",
   "nbconvert_exporter": "python",
   "pygments_lexer": "ipython3",
   "version": "3.8.5"
  }
 },
 "nbformat": 4,
 "nbformat_minor": 4
}
