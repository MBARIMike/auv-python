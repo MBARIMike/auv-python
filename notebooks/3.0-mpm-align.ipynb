{
 "cells": [
  {
   "cell_type": "markdown",
   "metadata": {},
   "source": [
    "### Plot aligned variables against calibrated data \n",
    "To run this Notebook:\n",
    "- Install with instructions at https://bitbucket.org/mbari/auv-python\n",
    "- `cd auv-python`\n",
    "- `poetry install && poetry shell`\n",
    "- `cd notebooks && jupyter notebook 2.0-mpm-align.ipynb`"
   ]
  },
  {
   "cell_type": "code",
   "execution_count": null,
   "metadata": {},
   "outputs": [],
   "source": [
    "import os\n",
    "import sys\n",
    "module_path = os.path.abspath(os.path.join('../src/data'));\n",
    "if module_path not in sys.path:\n",
    "    sys.path.append(module_path)\n",
    "import xarray as xr\n",
    "import hvplot.pandas\n",
    "import ipywidgets as widgets\n",
    "import pylab as plt\n",
    "import pandas as pd\n",
    "from logs2netcdfs import BASE_PATH, LOG_FILES\n",
    "\n",
    "# Pick auv_name available from locally processed files\n",
    "auv_picker = widgets.Dropdown(options=[f for f in sorted(os.listdir(BASE_PATH))\n",
    "                                               if f != '.DS_Store']);\n",
    "display(auv_picker);"
   ]
  },
  {
   "cell_type": "code",
   "execution_count": null,
   "metadata": {},
   "outputs": [],
   "source": [
    "# Pick auv mission on local system\n",
    "auv_name = auv_picker.value\n",
    "missions_dir = os.path.join(BASE_PATH, auv_name, 'missionnetcdfs')\n",
    "mission_picker = widgets.Dropdown(options=[f for f in sorted(os.listdir(missions_dir))\n",
    "                                                   if f != '.DS_Store'])\n",
    "display(mission_picker)"
   ]
  },
  {
   "cell_type": "code",
   "execution_count": null,
   "metadata": {},
   "outputs": [],
   "source": [
    "mission = mission_picker.value\n",
    "\n",
    "netcdfs_dir = os.path.join(BASE_PATH, auv_name, 'missionnetcdfs', mission)\n",
    "    \n",
    "cal_nc = f\"{auv_name}_{mission}_cal.nc\"\n",
    "align_nc = f\"{auv_name}_{mission}_align.nc\"\n",
    "cal_ds = xr.open_dataset(os.path.join(netcdfs_dir, cal_nc))\n",
    "align_ds = xr.open_dataset(os.path.join(netcdfs_dir, align_nc))\n",
    "display(cal_ds)\n",
    "display(align_ds)"
   ]
  },
  {
   "cell_type": "code",
   "execution_count": null,
   "metadata": {},
   "outputs": [],
   "source": [
    "%matplotlib widget\n",
    "\n",
    "plt.figure(figsize=(9,2))\n",
    "plt.plot(cal_ds['ctd_time'],\n",
    "         cal_ds['ctd_temperature'], '.',\n",
    "         align_ds['ctd_time'],\n",
    "         align_ds['ctd_temperature'])\n",
    "plt.legend(('Calibrated', 'Aligned'))\n",
    "title = \"Validating alignment of CTD temperature\"\n",
    "plt.title(title)\n",
    "plt.grid()"
   ]
  },
  {
   "cell_type": "code",
   "execution_count": null,
   "metadata": {},
   "outputs": [],
   "source": [
    "%matplotlib widget\n",
    "\n",
    "plt.figure(figsize=(9,2))\n",
    "plt.plot(cal_ds['navigation_time'],\n",
    "         cal_ds['navigation_latitude'], '.',\n",
    "         align_ds['ctd_time'],\n",
    "         align_ds['ctd_latitude'],)\n",
    "plt.legend(('Calibrated', 'Aligned'))\n",
    "title = \"Validating nudging of latitude\"\n",
    "plt.title(title)\n",
    "plt.grid()"
   ]
  },
  {
   "cell_type": "code",
   "execution_count": null,
   "metadata": {},
   "outputs": [],
   "source": [
    "%matplotlib widget\n",
    "\n",
    "plt.figure(figsize=(9,2))\n",
    "plt.plot(cal_ds['ctd_time'],\n",
    "         cal_ds['ctd_oxygen_mll'], '.',\n",
    "         align_ds['ctd_time'],\n",
    "         align_ds['ctd_oxygen_mll'])\n",
    "plt.legend(('Calibrated', 'Aligned'))\n",
    "title = \"Validating CTD oxygen_mll\"\n",
    "plt.title(title)\n",
    "plt.grid()"
   ]
  },
  {
   "cell_type": "markdown",
   "metadata": {},
   "source": [
    "The align process matches instrument date to the time values of the coordinate data (depth, latitude, and longitude).  Sometimes the instrument data time range exceeds the time range of the coordinate data. We have used `interp1d()`'s `fill_value` property to extrapolate the coordinate values to the temporal edges of the instrument data, but this may be wrong. This became qute apparent with dorado 2020.181.00 (essentially a failed mission that is not processed by legacy Matlab, but is in the missionlogs archive). Let's plot some of the instrument data with the coordinate data to explore the problem of using `\"extrapolate\"` for `fill_value`."
   ]
  },
  {
   "cell_type": "code",
   "execution_count": null,
   "metadata": {},
   "outputs": [],
   "source": [
    "%matplotlib widget\n",
    "\n",
    "plt.figure(figsize=(9,2))\n",
    "plt.plot(cal_ds['depth_time'],\n",
    "         cal_ds['depth_filtdepth'], '.',\n",
    "         align_ds['navigation_time'],\n",
    "         align_ds['navigation_depth'],\n",
    "         align_ds['hs2_time'],\n",
    "         align_ds['hs2_depth'], '--',\n",
    "         align_ds['ctd_time'],\n",
    "         align_ds['ctd_depth'], '.-',\n",
    "         align_ds['ctd_time'],\n",
    "         align_ds['ctd_salinity'], '*-',\n",
    "         #align_ds['ctd_time'],\n",
    "         #align_ds['ctd_salinity'], '--'\n",
    "         )\n",
    "plt.legend(('Original depth_filtdepth', 'Aligned navigation', 'Aligned hs2', 'Aligned ctd'))\n",
    "title = \"Validating Interpolation & Extrapolation of depth\"\n",
    "plt.title(title)\n",
    "plt.grid()"
   ]
  },
  {
   "cell_type": "code",
   "execution_count": null,
   "metadata": {},
   "outputs": [],
   "source": []
  }
 ],
 "metadata": {
  "interpreter": {
   "hash": "0e88a3c760aba6ca9f3c3c0e4efdae2f2c9ba294b5b63f4f016b5adb40bc1793"
  },
  "kernelspec": {
   "display_name": "Python 3 (ipykernel)",
   "language": "python",
   "name": "python3"
  },
  "language_info": {
   "codemirror_mode": {
    "name": "ipython",
    "version": 3
   },
   "file_extension": ".py",
   "mimetype": "text/x-python",
   "name": "python",
   "nbconvert_exporter": "python",
   "pygments_lexer": "ipython3",
   "version": "3.8.5"
  }
 },
 "nbformat": 4,
 "nbformat_minor": 4
}
