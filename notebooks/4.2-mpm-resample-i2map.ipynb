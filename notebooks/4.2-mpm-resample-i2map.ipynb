{
 "cells": [
  {
   "cell_type": "markdown",
   "metadata": {},
   "source": [
    "### Plot i2map resampled variables against aligned data \n",
    "To run this Notebook follow instructions at https://github.com/mbari-org/auv-python."
   ]
  },
  {
   "cell_type": "code",
   "execution_count": null,
   "metadata": {},
   "outputs": [],
   "source": [
    "import os\n",
    "import sys\n",
    "module_path = os.path.abspath(os.path.join('../src/data'));\n",
    "if module_path not in sys.path:\n",
    "    sys.path.append(module_path)\n",
    "import xarray as xr\n",
    "import ipywidgets as widgets\n",
    "import pylab as plt\n",
    "from logs2netcdfs import BASE_PATH"
   ]
  },
  {
   "cell_type": "code",
   "execution_count": null,
   "metadata": {},
   "outputs": [],
   "source": [
    "# Pick auv mission on local system\n",
    "auv_name = \"i2map\"\n",
    "missions_dir = os.path.join(BASE_PATH, auv_name, 'missionnetcdfs')\n",
    "mission_picker = widgets.Dropdown(options=[f for f in sorted(os.listdir(missions_dir))\n",
    "                                                   if f not in ['.DS_Store', '.pytest_cache']])\n",
    "display(mission_picker)"
   ]
  },
  {
   "cell_type": "code",
   "execution_count": null,
   "metadata": {},
   "outputs": [],
   "source": [
    "mission = mission_picker.value\n",
    "\n",
    "netcdfs_dir = os.path.join(BASE_PATH, auv_name, 'missionnetcdfs', mission)\n",
    "    \n",
    "\n",
    "align_nc = f\"{auv_name}_{mission}_align.nc\"\n",
    "resample_nc = f\"{auv_name}_{mission}_1S.nc\"\n",
    "align_ds = xr.open_dataset(os.path.join(netcdfs_dir, align_nc))\n",
    "resample_ds = xr.open_dataset(os.path.join(netcdfs_dir, resample_nc))\n",
    "display(align_ds)\n",
    "display(resample_ds)"
   ]
  },
  {
   "cell_type": "code",
   "execution_count": null,
   "metadata": {},
   "outputs": [],
   "source": [
    "%matplotlib widget\n",
    "\n",
    "plt.figure(figsize=(9,2))\n",
    "plt.plot(align_ds['seabird25p_time'],\n",
    "         align_ds['seabird25p_temperature'], '.',\n",
    "         resample_ds['time'],\n",
    "         resample_ds['seabird25p_temperature'],\n",
    "         resample_ds['time'],\n",
    "         resample_ds['navigation_mWaterSpeed'], '*')\n",
    "plt.legend(('Aligned temp', 'Resampled temp', 'Resampled mWaterSpeed'))\n",
    "title = \"Validating resampling of CTD temperature and navigation mWaterSpeed\"\n",
    "plt.title(title)\n",
    "plt.grid()"
   ]
  },
  {
   "cell_type": "code",
   "execution_count": null,
   "metadata": {},
   "outputs": [],
   "source": []
  }
 ],
 "metadata": {
  "interpreter": {
   "hash": "0e88a3c760aba6ca9f3c3c0e4efdae2f2c9ba294b5b63f4f016b5adb40bc1793"
  },
  "kernelspec": {
   "display_name": "Python 3 (ipykernel)",
   "language": "python",
   "name": "python3"
  },
  "language_info": {
   "codemirror_mode": {
    "name": "ipython",
    "version": 3
   },
   "file_extension": ".py",
   "mimetype": "text/x-python",
   "name": "python",
   "nbconvert_exporter": "python",
   "pygments_lexer": "ipython3",
   "version": "3.12.10"
  }
 },
 "nbformat": 4,
 "nbformat_minor": 4
}
