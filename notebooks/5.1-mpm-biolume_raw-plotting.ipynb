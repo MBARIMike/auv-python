{
 "cells": [
  {
   "attachments": {},
   "cell_type": "markdown",
   "metadata": {},
   "source": [
    "#### Read local _align.nc file and plot of 60 hz biolume raw data against other variables\n",
    "\n",
    "This Notebook uses Holoviz & Bokeh to plot time series data from the biolume sensor and *does* work inside VS Code.\n",
    "\n",
    "The full resolution data in the _align.nc files is written by xarray with int64 nanosecond timestamps. We like this as integer values avoid roundoff errors that can occur with floating point values. Unfortunately netCDF3 and Hyrax on dods.mbari.org do not support int64 values. So we have to read the data into xarry directly from the local netCDF4 file. There is commented out code in the third cell to read from a test hyrax server should you want to try it."
   ]
  },
  {
   "cell_type": "code",
   "execution_count": null,
   "metadata": {},
   "outputs": [],
   "source": [
    "import os\n",
    "import sys\n",
    "\n",
    "module_path = os.path.abspath(os.path.join(\"../src/data\"))\n",
    "if module_path not in sys.path:\n",
    "    sys.path.append(module_path)\n",
    "import xarray as xr\n",
    "import holoviews as hv\n",
    "import hvplot.pandas\n",
    "import ipywidgets as widgets\n",
    "from logs2netcdfs import BASE_PATH, MISSIONNETCDFS\n",
    "\n",
    "# Assumes that data have been processed locally using src/data/process_dorado.py\n",
    "auv_name = \"dorado\""
   ]
  },
  {
   "cell_type": "code",
   "execution_count": null,
   "metadata": {},
   "outputs": [],
   "source": [
    "# Pick mission\n",
    "missions_dir = os.path.join(BASE_PATH, auv_name, MISSIONNETCDFS)\n",
    "mission_picker = widgets.Dropdown(\n",
    "    options=[f for f in sorted(os.listdir(missions_dir)) if f != \".DS_Store\"]\n",
    ")\n",
    "display(mission_picker)"
   ]
  },
  {
   "cell_type": "code",
   "execution_count": null,
   "metadata": {},
   "outputs": [],
   "source": [
    "# Load full resolution data from the _align.nc file into an xarray Dataset\n",
    "netcdfs_dir = os.path.join(BASE_PATH, auv_name, MISSIONNETCDFS, mission_picker.value)\n",
    "opendap_base = os.path.join(\"http://dods.mbari.org:8181/opendap/data/auvctd/surveys/\", mission_picker.value.split('.')[0], 'netcdf')\n",
    "# Use `opendap_base` to test new hyrax-docker opendap server that supports int64 data types\n",
    "ds_align = xr.open_dataset(os.path.join(netcdfs_dir, f\"{auv_name}_{mission_picker.value}_align.nc\"))\n",
    "#ds_1S = xr.open_dataset(os.path.join(opendap_base, f\"{auv_name}_{mission_picker.value}_1S.nc\"))\n",
    "print(\"New hyrax-docker link: \" + os.path.join(opendap_base, f\"{auv_name}_{mission_picker.value}_align.nc\"))\n",
    "ds_align\n"
   ]
  },
  {
   "cell_type": "code",
   "execution_count": null,
   "metadata": {},
   "outputs": [],
   "source": [
    "# After reading the data, we can plot what we want by re-executing this cell\n",
    "# Do not commit to the repo the output of this cell, it is too large!\n",
    "hv.extension(\"bokeh\")   # See https://github.com/holoviz/holoviews/issues/4861#issuecomment-1239739743\n",
    "biolume_raw_plot = ds_align[\"biolume_raw\"].to_pandas().rename(\"raw\").hvplot()\n",
    "#biolume_max_1S_plot = ds_align[\"biolume_raw\"].to_pandas().resample('1S').max().rename(\"max_1S\").hvplot()\n",
    "biolume_min_plot = ds_align[\"biolume_raw\"].rolling(**{\"biolume_time60hz\": 300}).min().to_pandas().rename(\"min\").hvplot()\n",
    "#biolume_min_sm_plot = ds_align[\"biolume_raw\"].rolling(**{\"biolume_time60hz\": 300}).min().rolling(**{\"biolume_time60hz\": 300}, center=True).min().to_pandas().rename(\"sm\").hvplot()\n",
    "biolume_avg_plot = ds_align[\"biolume_avg_biolume\"].to_pandas().rename(\"avg\").hvplot()\n",
    "#biolume_avg_1S_plot = ds_1S[\"biolume_avg_biolume\"].to_pandas().rename(\"avg_1S\").hvplot()\n",
    "#biolume_raw_1S_plot = ds_1S[\"biolume_raw\"].to_pandas().rename(\"raw_1S\").hvplot()\n",
    "#biolume_raw_plot * biolume_avg_plot * biolume_max_1S_plot * biolume_raw_1S_plot\n",
    "biolume_raw_plot * biolume_avg_plot * biolume_min_plot"
   ]
  },
  {
   "cell_type": "code",
   "execution_count": null,
   "metadata": {},
   "outputs": [],
   "source": []
  }
 ],
 "metadata": {
  "kernelspec": {
   "display_name": "Python 3 (ipykernel)",
   "language": "python",
   "name": "python3"
  },
  "language_info": {
   "codemirror_mode": {
    "name": "ipython",
    "version": 3
   },
   "file_extension": ".py",
   "mimetype": "text/x-python",
   "name": "python",
   "nbconvert_exporter": "python",
   "pygments_lexer": "ipython3",
   "version": "3.10.8"
  },
  "vscode": {
   "interpreter": {
    "hash": "3c3b3e148980b25a09cf00d63a35b08e191085f19026c93a28fd1b260ffc2533"
   }
  }
 },
 "nbformat": 4,
 "nbformat_minor": 2
}
