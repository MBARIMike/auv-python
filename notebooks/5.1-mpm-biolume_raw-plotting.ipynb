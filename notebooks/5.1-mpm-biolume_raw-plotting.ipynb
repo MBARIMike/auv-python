{
 "cells": [
  {
   "cell_type": "markdown",
   "metadata": {},
   "source": [
    "#### Example reading local .nc files and plotting of 60 hz biolume raw data against other variables\n",
    "\n",
    "Execute this in from a `jupyter notebook` command so that you may zoom into the datashader plots - this [does not work in VS Code](https://github.com/holoviz/datashader/issues/739#issuecomment-482936944).\n",
    "\n"
   ]
  },
  {
   "cell_type": "code",
   "execution_count": 1,
   "metadata": {},
   "outputs": [],
   "source": [
    "import os\n",
    "import sys\n",
    "\n",
    "module_path = os.path.abspath(os.path.join(\"../src/data\"))\n",
    "if module_path not in sys.path:\n",
    "    sys.path.append(module_path)\n",
    "import xarray as xr\n",
    "import holoviews as hv\n",
    "import hvplot.pandas\n",
    "import ipywidgets as widgets\n",
    "from logs2netcdfs import BASE_PATH, MISSIONNETCDFS\n",
    "\n",
    "# Assumes that data have been processed locally using src/data/process_dorado.py\n",
    "auv_name = \"dorado\"\n"
   ]
  },
  {
   "cell_type": "code",
   "execution_count": 2,
   "metadata": {},
   "outputs": [],
   "source": [
    "# Pick mission\n",
    "missions_dir = os.path.join(BASE_PATH, auv_name, MISSIONNETCDFS)\n",
    "mission_picker = widgets.Dropdown(\n",
    "    options=[f for f in sorted(os.listdir(missions_dir)) if f != \".DS_Store\"]\n",
    ")\n",
    "display(mission_picker)\n"
   ]
  },
  {
   "cell_type": "code",
   "execution_count": null,
   "metadata": {},
   "outputs": [],
   "source": [
    "\n",
    "netcdfs_dir = os.path.join(BASE_PATH, auv_name, MISSIONNETCDFS, mission_picker.value)\n",
    "opendap_base = os.path.join(\"http://dods.mbari.org:8181/opendap/data/auvctd/surveys/\", mission_picker.value.split('.')[0], 'netcdf')\n",
    "# Use `opendap_base` to test new hyrax-docker opendap server\n",
    "ds_align = xr.open_dataset(os.path.join(netcdfs_dir, f\"{auv_name}_{mission_picker.value}_align.nc\"))\n",
    "ds_1S = xr.open_dataset(os.path.join(netcdfs_dir, f\"{auv_name}_{mission_picker.value}_1S.nc\"))\n",
    "print(os.path.join(opendap_base, f\"{auv_name}_{mission_picker.value}_align.nc\"))\n",
    "ds_align\n"
   ]
  },
  {
   "cell_type": "code",
   "execution_count": null,
   "metadata": {},
   "outputs": [],
   "source": [
    "# Takes about 30 seconds for local netcdf files, about twice as long for opendap urls\n",
    "# Do not commit to the repo the output of this cell, it is too large - about 70 MB\n",
    "hv.extension(\"bokeh\")   # See https://github.com/holoviz/holoviews/issues/4861#issuecomment-1239739743\n",
    "biolume_raw_plot = ds_align[\"biolume_raw\"].to_pandas().rename(\"raw\").hvplot()\n",
    "biolume_avg_plot = ds_align[\"biolume_avg_biolume\"].to_pandas().rename(\"avg\").hvplot()\n",
    "biolume_avg_plot * biolume_raw_plot"
   ]
  },
  {
   "cell_type": "code",
   "execution_count": null,
   "metadata": {},
   "outputs": [],
   "source": []
  }
 ],
 "metadata": {
  "kernelspec": {
   "display_name": "Python 3 (ipykernel)",
   "language": "python",
   "name": "python3"
  },
  "language_info": {
   "codemirror_mode": {
    "name": "ipython",
    "version": 3
   },
   "file_extension": ".py",
   "mimetype": "text/x-python",
   "name": "python",
   "nbconvert_exporter": "python",
   "pygments_lexer": "ipython3",
   "version": "3.10.8"
  },
  "vscode": {
   "interpreter": {
    "hash": "3c3b3e148980b25a09cf00d63a35b08e191085f19026c93a28fd1b260ffc2533"
   }
  }
 },
 "nbformat": 4,
 "nbformat_minor": 2
}
