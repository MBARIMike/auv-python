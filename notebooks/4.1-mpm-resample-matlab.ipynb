{
 "cells": [
  {
   "cell_type": "markdown",
   "metadata": {},
   "source": [
    "### Plot data from the resampled netCDF files and compare with Matlab processed data\n",
    "To run this Notebook:\n",
    "- Install with instructions at https://bitbucket.org/mbari/auv-python\n",
    "- `cd auv-python`\n",
    "- `poetry install && poetry shell`\n",
    "- `cd notebooks && jupyter notebook 4.0-mpm-resample-matlab.ipynb`"
   ]
  },
  {
   "cell_type": "code",
   "execution_count": null,
   "metadata": {},
   "outputs": [],
   "source": [
    "import os\n",
    "import sys\n",
    "module_path = os.path.abspath(os.path.join('../src/data'))\n",
    "if module_path not in sys.path:\n",
    "    sys.path.append(module_path)\n",
    "import ipywidgets as widgets\n",
    "from logs2netcdfs import BASE_PATH\n",
    "\n",
    "# Pick auv_name available from locally processed files\n",
    "auv_picker = widgets.Dropdown(options=[f for f in sorted(os.listdir(BASE_PATH))\n",
    "                                               if f != '.DS_Store'])\n",
    "display(auv_picker)"
   ]
  },
  {
   "cell_type": "code",
   "execution_count": null,
   "metadata": {},
   "outputs": [],
   "source": [
    "# Pick resampled netCDF file on local system\n",
    "auv_name = auv_picker.value\n",
    "missions_dir = os.path.join(BASE_PATH, auv_name, 'missionnetcdfs')\n",
    "mission_picker = widgets.Dropdown(options=[f for f in sorted(os.listdir(missions_dir))\n",
    "                                                   if f != '.DS_Store'])\n",
    "display(mission_picker)"
   ]
  },
  {
   "cell_type": "code",
   "execution_count": null,
   "metadata": {},
   "outputs": [],
   "source": [
    "from glob import glob\n",
    "mission = mission_picker.value\n",
    "\n",
    "# Get handle to corresponding Matlab generated netCDF on opendap server\n",
    "year = mission.split('.')[0]\n",
    "yd = mission.split('.')[1]\n",
    "seq = mission.split('.')[2]\n",
    "survey = f\"{year}_{yd}_{seq}_{yd}_{seq}\"    # Most surveys named like this\n",
    "matlab_path = os.path.join('http://dods.mbari.org/opendap/data/auvctd/surveys/', \n",
    "                            mission.split('.')[0], 'netcdf', f\"{auv_name}_{survey}_decim.nc\")\n",
    "\n",
    "# Pick from possible set of resampled netCDF files on local system\n",
    "netcdfs_dir = os.path.join(BASE_PATH, auv_name, 'missionnetcdfs', mission)\n",
    "resampled_picker = widgets.Dropdown(options= [f for f in \n",
    "                                                glob(os.path.join(netcdfs_dir, f\"{auv_name}_{mission}_*S.nc\"))\n",
    "                                                if f != '.DS_Store'],\n",
    "                                    layout={'width': 'max-content'})\n",
    "display(resampled_picker)"
   ]
  },
  {
   "cell_type": "code",
   "execution_count": null,
   "metadata": {},
   "outputs": [],
   "source": [
    "import xarray as xr\n",
    "\n",
    "resampled_nc = resampled_picker.value\n",
    "try:\n",
    "    ds = xr.open_dataset(resampled_nc)\n",
    "except (FileNotFoundError, OSError):\n",
    "    print(f'{resampled_nc} not found')\n",
    "try:\n",
    "    ds_matlab = xr.open_dataset(matlab_path)\n",
    "except (FileNotFoundError, OSError):\n",
    "    print(f'{matlab_path} not found')\n",
    "\n",
    "# Pick a variable from the resampled netCDF\n",
    "var_picker = widgets.Dropdown(options=list(ds), layout={'width': 'max-content'})\n",
    "display(var_picker)"
   ]
  },
  {
   "cell_type": "code",
   "execution_count": null,
   "metadata": {},
   "outputs": [],
   "source": [
    "# Pick a variable from the Matlab generated netCDF file\n",
    "var_picker_matlab = widgets.Dropdown(options=list(ds_matlab), layout={'width': 'max-content'})\n",
    "display(var_picker_matlab)"
   ]
  },
  {
   "cell_type": "code",
   "execution_count": null,
   "metadata": {},
   "outputs": [],
   "source": [
    "import hvplot.pandas\n",
    "import pandas as pd\n",
    "import xarray as xr\n",
    "\n",
    "variable = var_picker.value\n",
    "variable_matlab = var_picker_matlab.value\n",
    " \n",
    "# Axis label and units from the auv-python generated netCDF variable\n",
    "# Up to the user to make sure the Matlab generated variable matches\n",
    "long_name = getattr(ds, variable).attrs['long_name']\n",
    "units = getattr(ds, variable).attrs['units']\n",
    "\n",
    "# Plot first hour of locally generated variable with the chosen Matlab generated variable\n",
    "first_hour = ds.time.values[0].astype('str').split(':')[0]    \n",
    "df = pd.concat([ds[variable].sel(time=first_hour).to_pandas().rename(f\"auv-python {variable}\"),\n",
    "                ds_matlab[variable_matlab].sel(time=first_hour).to_pandas().rename(f\"Matlab {variable_matlab}\")], axis=1)\n",
    "display(df.hvplot(ylabel=f\"{long_name} [{units}]\", frame_width=600,))"
   ]
  },
  {
   "cell_type": "code",
   "execution_count": null,
   "metadata": {},
   "outputs": [],
   "source": [
    "# Gaps in the resampled variables ??\n",
    "display(ds[variable].sel(time=first_hour).to_pandas().hvplot(frame_width=600))"
   ]
  },
  {
   "cell_type": "code",
   "execution_count": null,
   "metadata": {},
   "outputs": [],
   "source": [
    "ds_matlab[variable_matlab].sel(time=first_hour).to_pandas().rename(f\"Matlab {variable_matlab}\")"
   ]
  },
  {
   "cell_type": "code",
   "execution_count": null,
   "metadata": {},
   "outputs": [],
   "source": []
  }
 ],
 "metadata": {
  "interpreter": {
   "hash": "0e88a3c760aba6ca9f3c3c0e4efdae2f2c9ba294b5b63f4f016b5adb40bc1793"
  },
  "kernelspec": {
   "display_name": "Python 3.8.5 64-bit ('auv-python-s1xEUhIL-py3.8': poetry)",
   "name": "python3"
  },
  "language_info": {
   "codemirror_mode": {
    "name": "ipython",
    "version": 3
   },
   "file_extension": ".py",
   "mimetype": "text/x-python",
   "name": "python",
   "nbconvert_exporter": "python",
   "pygments_lexer": "ipython3",
   "version": "3.8.5"
  }
 },
 "nbformat": 4,
 "nbformat_minor": 4
}
