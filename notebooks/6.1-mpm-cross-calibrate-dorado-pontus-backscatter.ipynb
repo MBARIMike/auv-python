{
 "cells": [
  {
   "cell_type": "markdown",
   "metadata": {},
   "source": [
    "#### Cross calibrate co-located Dorado and Pontus fluorescence and backscatter data\n",
    "\n",
    "This Notebook is part of the auv-python project (private repository at https://github.com/mbari-org/auv-python).\n",
    "\n",
    "To execute it (for example):\n",
    "\n",
    "```bash\n",
    "    cd GitHub  # Or other appropriate directory on your computer\n",
    "    git clone https://github.com/mbari-org/auv-python.git\n",
    "    cd auv-python\n",
    "    poetry install\n",
    "    poetry shell\n",
    "    cd notebooks\n",
    "    jupyter lab\n",
    "    # Open this notebook and run it from your browser - note that bokeh interactivity does not work in VS Code\n",
    "```\n"
   ]
  },
  {
   "cell_type": "code",
   "execution_count": null,
   "metadata": {},
   "outputs": [],
   "source": [
    "import holoviews as hv\n",
    "import hvplot.pandas\n",
    "import numpy as np\n",
    "import pandas as pd\n",
    "import pooch\n",
    "import statsmodels.api as sm\n",
    "from scipy.interpolate import griddata\n",
    "from holoviews.operation.datashader import rasterize\n",
    "\n",
    "hv.extension(\"bokeh\")"
   ]
  },
  {
   "cell_type": "markdown",
   "metadata": {},
   "source": [
    "The July 2022 Dorado Diamond mission sampled the same water as a Pontus deployment that month. Here is the Share this view link for the data in STOQS: http://stoqs.mbari.org/p/wa8_j4M. The NW leg of the diamond has Dorado & Pontus sample about 3 km apart from each other:"
   ]
  },
  {
   "cell_type": "code",
   "execution_count": null,
   "metadata": {},
   "outputs": [],
   "source": [
    "from IPython.display import Image\n",
    "\n",
    "Image(filename=\"images/dorado_pontus_july_2022.png\")"
   ]
  },
  {
   "cell_type": "markdown",
   "metadata": {},
   "source": [
    "Extract 6.5 hours of data from STOQS for this time period and explore the data from dorado and pontus. (If you get a ValueError then update the known_hash value with the one that was got.)"
   ]
  },
  {
   "cell_type": "code",
   "execution_count": null,
   "metadata": {
    "scrolled": true
   },
   "outputs": [],
   "source": [
    "%%time\n",
    "# Construct the url to retrieve the data from the STOQS database:\n",
    "parms = [\n",
    "    \"ctd1_salinity\",\n",
    "    \"ctd1_temperature (degree_Celsius)\",\n",
    "    \"ecopuck_bbp700 (m^-1 sr^-1)\",\n",
    "    \"ecopuck_chl (ug/l)\",\n",
    "    \"hs2_bb420 (m-1)\",\n",
    "    \"hs2_bb700 (m-1)\",\n",
    "    \"hs2_fl700\",\n",
    "    \"salinity (psu)\",\n",
    "    \"sigmat\",\n",
    "    \"temperature (degC)\",\n",
    "    \"volumescatcoeff117deg470nm (1/m/sr)\",\n",
    "    \"volumescatcoeff117deg650nm (1/m/sr)\",\n",
    "    \"chlorophyll (ug/l)\",\n",
    "]\n",
    "stoqs_url = \"https://tethysviz.shore.mbari.org/stoqs_lrauv_jul2022/api/measuredparameter.parquet?\"\n",
    "stoqs_url += \"parameter__name=\" + \"&parameter__name=\".join(parms)\n",
    "stoqs_url += \"&measurement__instantpoint__activity__platform__name=pontus\"\n",
    "stoqs_url += \"&measurement__instantpoint__activity__platform__name=dorado\"\n",
    "stoqs_url += \"&measurement__instantpoint__timevalue__gt=2022-07-21+03:30:00\"\n",
    "stoqs_url += \"&measurement__instantpoint__timevalue__lt=2022-07-21+10:00:00\"\n",
    "stoqs_url += \"&collect=name&include=activity__name\"\n",
    "\n",
    "# Takes a minute or so to retrieve the data the first time, thereafter it's read from a local cache\n",
    "data_file = pooch.retrieve(\n",
    "    url=stoqs_url,\n",
    "    known_hash=\"bb73ab87c29c9cd6bbff1579256c5b661a77cc1a881f6a14fa823fe06e4be86d\",\n",
    ")\n",
    "df = pd.read_parquet(data_file)\n",
    "df.describe()"
   ]
  },
  {
   "cell_type": "code",
   "execution_count": null,
   "metadata": {},
   "outputs": [],
   "source": [
    "# Make dataframe modified with index columns converted to regular columns:\n",
    "dfm = df.reset_index()"
   ]
  },
  {
   "cell_type": "code",
   "execution_count": null,
   "metadata": {},
   "outputs": [],
   "source": [
    "# Function to create a scatter plot of a single parameter from a platform\n",
    "def scatter_plot(df, platform, parameter, height=200):\n",
    "    return (\n",
    "        df[df[\"platform\"] == platform]\n",
    "        .hvplot.scatter(\n",
    "            x=\"latitude\",\n",
    "            y=\"depth\",\n",
    "            c=parameter,\n",
    "            cmap=\"viridis\",\n",
    "            colorbar=True,\n",
    "            width=800,\n",
    "            height=height,\n",
    "        )\n",
    "        .opts(invert_yaxis=True, title=f\"{platform} {parameter}\")\n",
    "    )\n",
    "\n",
    "\n",
    "# Backscatter at 700nm/650nm is a good proxy for particulate matter\n",
    "dorado_plot = scatter_plot(dfm, \"dorado\", \"ecopuck_bbp700 (m^-1 sr^-1)\")\n",
    "pontus_plot = scatter_plot(dfm, \"pontus\", \"volumescatcoeff117deg650nm (1/m/sr)\")\n",
    "(dorado_plot + pontus_plot).cols(1)"
   ]
  },
  {
   "cell_type": "code",
   "execution_count": null,
   "metadata": {},
   "outputs": [],
   "source": [
    "# Fluorescence is a good proxy for chlorophyll\n",
    "dorado_plot = scatter_plot(dfm, \"dorado\", \"ecopuck_chl (ug/l)\")\n",
    "pontus_plot = scatter_plot(dfm, \"pontus\", \"chlorophyll (ug/l)\")\n",
    "(dorado_plot + pontus_plot).cols(1)"
   ]
  },
  {
   "cell_type": "code",
   "execution_count": null,
   "metadata": {},
   "outputs": [],
   "source": [
    "# Function to create a gridded mesh and plot of a single parameter from a platform\n",
    "def grid_plot(df, platform, parameter, height=200):\n",
    "    dfp = df[parameter].dropna().reset_index()\n",
    "    lats = np.linspace(36.75, 36.9, 3000)\n",
    "    depths = np.linspace(0.0, 150.0, 300)\n",
    "    g_z = griddata(\n",
    "        dfp[[\"latitude\", \"depth\"]].values,\n",
    "        dfp[parameter].values,\n",
    "        (lats[None, :], depths[:, None]),\n",
    "        method=\"linear\",\n",
    "        rescale=True,\n",
    "    )\n",
    "    g_z = np.flip(g_z, axis=0)\n",
    "    return (\n",
    "        hv.Image(\n",
    "            g_z,\n",
    "            bounds=(\n",
    "                dfm[\"latitude\"].min(),\n",
    "                dfm[\"depth\"].min(),\n",
    "                dfm[\"latitude\"].max(),\n",
    "                dfm[\"depth\"].max(),\n",
    "            ),\n",
    "        ).opts(\n",
    "            width=800,\n",
    "            height=height,\n",
    "            title=f\"{platform} {parameter}\",\n",
    "            colorbar=True,\n",
    "            cmap=\"viridis\",\n",
    "            invert_yaxis=True,\n",
    "            logz=True,\n",
    "        ),\n",
    "        g_z,\n",
    "    )\n",
    "\n",
    "\n",
    "# Backscatter at 700nm/650nm - _bsr\n",
    "dorado_plot, dorado_data_bsr = grid_plot(df, \"dorado\", \"ecopuck_bbp700 (m^-1 sr^-1)\")\n",
    "pontus_plot, pontus_data_bsr = grid_plot(\n",
    "    df, \"pontus\", \"volumescatcoeff117deg650nm (1/m/sr)\"\n",
    ")\n",
    "(dorado_plot + pontus_plot).cols(1)"
   ]
  },
  {
   "cell_type": "code",
   "execution_count": null,
   "metadata": {},
   "outputs": [],
   "source": [
    "# Chlorophyll fluorescence - _chl\n",
    "dorado_plot, dorado_data_chl = grid_plot(df, \"dorado\", \"ecopuck_chl (ug/l)\")\n",
    "pontus_plot, pontus_data_chl = grid_plot(df, \"pontus\", \"chlorophyll (ug/l)\")\n",
    "(dorado_plot + pontus_plot).cols(1)"
   ]
  },
  {
   "cell_type": "code",
   "execution_count": null,
   "metadata": {},
   "outputs": [],
   "source": [
    "# Function to make dataframe of gridded data, remove nan rows, plot, and compute regression\n",
    "def biplot(df, x_plat, y_plat, x_parm, y_parm, log=False):\n",
    "    x_data = grid_plot(df, x_plat, x_parm)[1].flatten()\n",
    "    y_data = grid_plot(df, y_plat, y_parm)[1].flatten()\n",
    "    if log:\n",
    "        dfg = pd.DataFrame({x_plat: np.log10(x_data), y_plat: np.log10(y_data)})\n",
    "    else:\n",
    "        dfg = pd.DataFrame({x_plat: x_data, y_plat: y_data})\n",
    "    dfa = dfg[[x_plat, y_plat]].dropna()\n",
    "    results = sm.OLS(dfa[y_plat], sm.add_constant(dfa[x_plat])).fit()\n",
    "    print(results.summary())\n",
    "    if log:\n",
    "        X = f\"log10({x_plat} {x_parm})\"\n",
    "        Y = f\"log10({y_plat} {y_parm})\"\n",
    "    else:\n",
    "        X = f\"{x_plat} {x_parm}\"\n",
    "        Y = f\"{y_plat} {y_parm}\"\n",
    "    title = f\"{Y} = \\n\\t{results.params[1]:.4f} * {X} + {results.params[0]:.4f}\"\n",
    "    slope_plot = hv.Slope.from_scatter(hv.Scatter(dfa.to_numpy())).opts(\n",
    "        line_width=1, color=\"red\"\n",
    "    )\n",
    "    pts = hv.Points(dfa, [x_plat, y_plat])\n",
    "    title = title + f\" (r-squared={results.rsquared:.4f})\"\n",
    "    print(f\"\\nRegression: {title}\\n\")\n",
    "    scatter_plot = (\n",
    "        rasterize(pts)\n",
    "        .opts(width=700, height=700, title=title, colorbar=True, cmap=\"viridis\")\n",
    "        .opts(tools=[\"hover\"])\n",
    "    )\n",
    "    return scatter_plot * slope_plot"
   ]
  },
  {
   "cell_type": "code",
   "execution_count": null,
   "metadata": {},
   "outputs": [],
   "source": [
    "# Linear backscatter at 700nm/650nm - prediction for pontus from dorado\n",
    "biplot(\n",
    "    df,\n",
    "    \"dorado\",\n",
    "    \"pontus\",\n",
    "    \"ecopuck_bbp700 (m^-1 sr^-1)\",\n",
    "    \"volumescatcoeff117deg650nm (1/m/sr)\",\n",
    "    log=False,\n",
    ")"
   ]
  },
  {
   "cell_type": "code",
   "execution_count": null,
   "metadata": {},
   "outputs": [],
   "source": [
    "# Linear chlorophyll - prediction for pontus from dorado\n",
    "biplot(df, \"dorado\", \"pontus\", \"ecopuck_chl (ug/l)\", \"chlorophyll (ug/l)\", log=False)"
   ]
  },
  {
   "cell_type": "code",
   "execution_count": null,
   "metadata": {},
   "outputs": [],
   "source": [
    "# Logarithmic backscatter at 700nm/650nm - prediction for pontus from dorado\n",
    "biplot(\n",
    "    df,\n",
    "    \"dorado\",\n",
    "    \"pontus\",\n",
    "    \"ecopuck_bbp700 (m^-1 sr^-1)\",\n",
    "    \"volumescatcoeff117deg650nm (1/m/sr)\",\n",
    "    log=True,\n",
    ")"
   ]
  },
  {
   "cell_type": "code",
   "execution_count": null,
   "metadata": {},
   "outputs": [],
   "source": [
    "# Logarithmic chlorophyll - prediction for pontus from dorado\n",
    "biplot(df, \"dorado\", \"pontus\", \"ecopuck_chl (ug/l)\", \"chlorophyll (ug/l)\", log=True)"
   ]
  },
  {
   "cell_type": "code",
   "execution_count": null,
   "metadata": {},
   "outputs": [],
   "source": []
  }
 ],
 "metadata": {
  "kernelspec": {
   "display_name": "Python 3 (ipykernel)",
   "language": "python",
   "name": "python3"
  },
  "language_info": {
   "codemirror_mode": {
    "name": "ipython",
    "version": 3
   },
   "file_extension": ".py",
   "mimetype": "text/x-python",
   "name": "python",
   "nbconvert_exporter": "python",
   "pygments_lexer": "ipython3",
   "version": "3.10.13"
  },
  "vscode": {
   "interpreter": {
    "hash": "3c3b3e148980b25a09cf00d63a35b08e191085f19026c93a28fd1b260ffc2533"
   }
  }
 },
 "nbformat": 4,
 "nbformat_minor": 4
}
