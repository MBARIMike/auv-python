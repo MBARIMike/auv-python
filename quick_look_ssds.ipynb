{
 "cells": [
  {
   "cell_type": "markdown",
   "metadata": {},
   "source": [
    "### Plot data from the netCDF conversions of the original log files and compare with SSDS generated version\n",
    "To run this Notebook:\n",
    "- Install Python3.8 (e.g from [Anacaonda](https://www.anaconda.com/distribution/))\n",
    "- `git clone https://<your_account>@bitbucket.org/mbari/auv-python.git` Replacing: `<your_account>`\n",
    "- `cd auv-python`\n",
    "- `jupyter notebook`\n",
    "- Select this file and execute the cells"
   ]
  },
  {
   "cell_type": "code",
   "execution_count": null,
   "metadata": {
    "scrolled": true
   },
   "outputs": [],
   "source": [
    "import os\n",
    "import xarray as xr\n",
    "import hvplot.pandas\n",
    "import ipywidgets as widgets\n",
    "import pandas as pd\n",
    "from logs2netcdfs import BASE_PATH, LOG_FILES\n",
    "\n",
    "# Pick 'dorado' mission on local system\n",
    "auv_name = 'dorado'\n",
    "missions_dir = os.path.join(BASE_PATH, auv_name, 'missionnetcdfs')\n",
    "mission_picker = widgets.Dropdown(options=os.listdir(missions_dir))\n",
    "display(mission_picker)"
   ]
  },
  {
   "cell_type": "code",
   "execution_count": null,
   "metadata": {
    "scrolled": true
   },
   "outputs": [],
   "source": [
    "mission = mission_picker.value\n",
    "\n",
    "# Compare SSDS generated with logs2netcdfs.py generated\n",
    "ssds_path = os.path.join('http://dods.mbari.org:80/opendap/data/ssdsdata/ssds/generated/netcdf/files',\n",
    "                         'ssds.shore.mbari.org/auvctd/missionlogs/', mission.split('.')[0],\n",
    "                         ''.join(mission.split('.')[:2]), mission)\n",
    "\n",
    "# Read all the netCDF file data into in-memory xarray objects saved in a dictionary\n",
    "netcdfs_dir = os.path.join(BASE_PATH, auv_name, 'missionnetcdfs', mission)\n",
    "ncs = {}\n",
    "dds = {}\n",
    "for lf in LOG_FILES:\n",
    "    nc_file = lf.replace('.log', '.nc')\n",
    "    try:\n",
    "        ncs[nc_file] = xr.open_dataset(os.path.join(netcdfs_dir, nc_file))\n",
    "        dds[nc_file] = xr.open_dataset(os.path.join(ssds_path, nc_file))\n",
    "    except FileNotFoundError:\n",
    "        pass"
   ]
  },
  {
   "cell_type": "code",
   "execution_count": null,
   "metadata": {
    "scrolled": false
   },
   "outputs": [],
   "source": [
    "# Print the variables in each data set\n",
    "for nc_file, ds in ncs.items():\n",
    "    print(f\"{nc_file}: {[v for v in list(ds)]}\")\n",
    "    ##display(ds) # Uncomment to explore all the attributes"
   ]
  },
  {
   "cell_type": "code",
   "execution_count": null,
   "metadata": {
    "scrolled": false
   },
   "outputs": [],
   "source": [
    "# Pick the converted log to examine\n",
    "ds_picker = widgets.Dropdown(options=ncs.keys())\n",
    "display(ds_picker)"
   ]
  },
  {
   "cell_type": "code",
   "execution_count": null,
   "metadata": {},
   "outputs": [],
   "source": [
    "# Pick the variable to plot\n",
    "var_picker = widgets.Dropdown(options=list(ncs[ds_picker.value]))\n",
    "display(var_picker)"
   ]
  },
  {
   "cell_type": "code",
   "execution_count": null,
   "metadata": {
    "scrolled": false
   },
   "outputs": [],
   "source": [
    "variable = var_picker.value\n",
    "\n",
    "# Plot locally generated variable with the one created and served by SSDS\n",
    "local_ds = ncs[ds_picker.value]\n",
    "ssds_ds = dds[ds_picker.value]\n",
    "\n",
    "var = getattr(local_ds, variable)\n",
    "try:\n",
    "    d_var = getattr(ssds_ds, variable)\n",
    "except AttributeError as e:\n",
    "    d_var = xr.DataArray([])\n",
    "\n",
    "df = pd.concat([local_ds[variable].to_pandas().rename(f\"auv-python\"),\n",
    "                 ssds_ds[variable].to_pandas().rename(f\"SSDS\")], axis=1)\n",
    "display(df.hvplot(ylabel=f\"{var.attrs['long_name']} [{var.attrs.get('units', '')}]\"))"
   ]
  },
  {
   "cell_type": "code",
   "execution_count": null,
   "metadata": {},
   "outputs": [],
   "source": []
  }
 ],
 "metadata": {
  "kernelspec": {
   "display_name": "Python 3",
   "language": "python",
   "name": "python3"
  },
  "language_info": {
   "codemirror_mode": {
    "name": "ipython",
    "version": 3
   },
   "file_extension": ".py",
   "mimetype": "text/x-python",
   "name": "python",
   "nbconvert_exporter": "python",
   "pygments_lexer": "ipython3",
   "version": "3.8.2"
  }
 },
 "nbformat": 4,
 "nbformat_minor": 4
}
