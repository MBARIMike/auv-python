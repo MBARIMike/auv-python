{
 "cells": [
  {
   "cell_type": "markdown",
   "metadata": {},
   "source": [
    "### Plot derived variables against original data \n",
    "To run this Notebook:\n",
    "- Install Python and auv-python with instructions at https://bitbucket.org/MBARIMIke/auv-python\n",
    "- `cd auv-python`\n",
    "- `jupyter notebook`\n",
    "- Select this file and execute the cells"
   ]
  },
  {
   "cell_type": "code",
   "execution_count": null,
   "metadata": {
    "scrolled": true
   },
   "outputs": [],
   "source": [
    "import os\n",
    "import xarray as xr\n",
    "import hvplot.pandas\n",
    "import ipywidgets as widgets\n",
    "import matplotlib.pyplot as plt\n",
    "import pandas as pd\n",
    "from logs2netcdfs import BASE_PATH, LOG_FILES\n",
    "\n",
    "# Pick auv_name available from locally processed files\n",
    "auv_picker = widgets.Dropdown(options=[f for f in sorted(os.listdir(BASE_PATH))\n",
    "                                               if f != '.DS_Store'])\n",
    "display(auv_picker)"
   ]
  },
  {
   "cell_type": "code",
   "execution_count": null,
   "metadata": {},
   "outputs": [],
   "source": [
    "# Pick auv mission on local system\n",
    "auv_name = auv_picker.value\n",
    "missions_dir = os.path.join(BASE_PATH, auv_name, 'missionnetcdfs')\n",
    "mission_picker = widgets.Dropdown(options=[f for f in sorted(os.listdir(missions_dir))\n",
    "                                                   if f != '.DS_Store'])\n",
    "display(mission_picker)"
   ]
  },
  {
   "cell_type": "code",
   "execution_count": null,
   "metadata": {
    "scrolled": true
   },
   "outputs": [],
   "source": [
    "mission = mission_picker.value\n",
    "\n",
    "# Read all the netCDF file data into in-memory xarray objects saved in a dictionary\n",
    "netcdfs_dir = os.path.join(BASE_PATH, auv_name, 'missionnetcdfs', mission)\n",
    "ncs = {}\n",
    "for lf in LOG_FILES:\n",
    "    nc_file = lf.replace('.log', '.nc')\n",
    "    try:\n",
    "        ncs[nc_file] = xr.open_dataset(os.path.join(netcdfs_dir, nc_file))\n",
    "    except FileNotFoundError:\n",
    "        pass\n",
    "    \n",
    "cal_align = f\"{auv_name}_{mission}.nc\"\n",
    "ncs[cal_align] = xr.open_dataset(os.path.join(netcdfs_dir, cal_align))\n",
    "#display(ncs[cal_align])      # Uncomment to explore dataset"
   ]
  },
  {
   "cell_type": "code",
   "execution_count": null,
   "metadata": {},
   "outputs": [],
   "source": [
    "%matplotlib notebook\n",
    "pd.concat([ncs[cal_align]['filt_depth'].to_pandas().rename('filt_depth'), \n",
    "           ncs[cal_align]['nav_depth'].to_pandas().rename('nav_depth'),\n",
    "           ncs['parosci.nc']['depth'].to_pandas().rename('depth')], axis=1).plot(style=['bs-','ro-','y^-'])"
   ]
  },
  {
   "cell_type": "code",
   "execution_count": null,
   "metadata": {
    "scrolled": true
   },
   "outputs": [],
   "source": [
    "# Print the variables in each data set\n",
    "for nc_file, ds in ncs.items():\n",
    "    print(f\"{nc_file}: {[v for v in list(ds)]}\")\n",
    "    ##display(ds) # Uncomment to explore all the attributes"
   ]
  },
  {
   "cell_type": "code",
   "execution_count": null,
   "metadata": {
    "scrolled": false
   },
   "outputs": [],
   "source": [
    "# Pick the converted log to examine\n",
    "ds_picker = widgets.Dropdown(options=ncs.keys())\n",
    "display(ds_picker)"
   ]
  },
  {
   "cell_type": "code",
   "execution_count": null,
   "metadata": {},
   "outputs": [],
   "source": [
    "# Pick the variable to plot\n",
    "var_picker = widgets.Dropdown(options=list(ncs[ds_picker.value]))\n",
    "display(var_picker)"
   ]
  },
  {
   "cell_type": "code",
   "execution_count": null,
   "metadata": {
    "scrolled": false
   },
   "outputs": [],
   "source": [
    "variable = var_picker.value\n",
    "\n",
    "# Plot locally generated variable with the one created and served by SSDS\n",
    "local_ds = ncs[ds_picker.value]\n",
    "\n",
    "\n",
    "var = getattr(local_ds, variable)\n",
    "try:\n",
    "    d_var = getattr(ssds_ds, variable)\n",
    "except AttributeError as e:\n",
    "    d_var = xr.DataArray([])\n",
    "\n",
    "df = pd.concat([local_ds[variable].to_pandas().rename(f\"auv-python\"),\n",
    "                 ssds_ds[variable].to_pandas().rename(f\"SSDS\")], axis=1)\n",
    "display(df.hvplot(ylabel=f\"{var.attrs['long_name']} [{var.attrs.get('units', '')}]\"))"
   ]
  },
  {
   "cell_type": "code",
   "execution_count": null,
   "metadata": {},
   "outputs": [],
   "source": []
  }
 ],
 "metadata": {
  "kernelspec": {
   "display_name": "Python 3",
   "language": "python",
   "name": "python3"
  },
  "language_info": {
   "codemirror_mode": {
    "name": "ipython",
    "version": 3
   },
   "file_extension": ".py",
   "mimetype": "text/x-python",
   "name": "python",
   "nbconvert_exporter": "python",
   "pygments_lexer": "ipython3",
   "version": "3.8.2"
  }
 },
 "nbformat": 4,
 "nbformat_minor": 4
}
